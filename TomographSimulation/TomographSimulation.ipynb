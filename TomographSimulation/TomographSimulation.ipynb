{
 "cells": [
  {
   "cell_type": "markdown",
   "metadata": {},
   "source": [
    "# Tomograph Simulation\n",
    "\n",
    "Simple tomograph simulation for 2d pictures (*.bmp format)\n",
    "\n",
    "### Necessary imports:"
   ]
  },
  {
   "cell_type": "code",
   "execution_count": 1,
   "metadata": {},
   "outputs": [],
   "source": [
    "%matplotlib inline"
   ]
  },
  {
   "cell_type": "code",
   "execution_count": 2,
   "metadata": {},
   "outputs": [],
   "source": [
    "from bresenham import bresenham\n",
    "from PIL import Image\n",
    "import matplotlib as mpl\n",
    "import matplotlib.pyplot as plt\n",
    "import matplotlib.animation as animation\n",
    "from IPython.display import HTML, display\n",
    "import os\n",
    "import tomograph_functions as tf\n",
    "import pydicom\n",
    "from pydicom.data import get_testdata_files\n",
    "from ipywidgets import widgets, Layout\n",
    "import numpy as np"
   ]
  },
  {
   "cell_type": "code",
   "execution_count": 3,
   "metadata": {},
   "outputs": [
    {
     "data": {
      "text/html": [
       "<script>\n",
       "code_show=true; \n",
       "function code_toggle() {\n",
       "  if (code_show) {\n",
       "    $('div.input').each(function(id) {\n",
       "      el = $(this).find('.cm-variable:first');\n",
       "      if (id == 0 || el.text() == 'hide_me') {\n",
       "        $(this).hide();\n",
       "      }\n",
       "    });\n",
       "    $('div.output_prompt').css('opacity', 0);\n",
       "  } else {\n",
       "    $('div.input').each(function(id) {\n",
       "      $(this).show();\n",
       "    });\n",
       "    $('div.output_prompt').css('opacity', 1);\n",
       "  }\n",
       "  code_show = !code_show\n",
       "} \n",
       "$( document ).ready(code_toggle);\n",
       "</script>\n",
       "<form action=\"javascript:code_toggle()\">\n",
       "    <input style=\"opacity:0\" type=\"submit\" value=\"Click here to toggle on/off the raw code.\">\n",
       "</form>"
      ],
      "text/plain": [
       "<IPython.core.display.HTML object>"
      ]
     },
     "execution_count": 3,
     "metadata": {},
     "output_type": "execute_result"
    }
   ],
   "source": [
    "hide_me = ''\n",
    "HTML('''<script>\n",
    "code_show=true; \n",
    "function code_toggle() {\n",
    "  if (code_show) {\n",
    "    $('div.input').each(function(id) {\n",
    "      el = $(this).find('.cm-variable:first');\n",
    "      if (id == 0 || el.text() == 'hide_me') {\n",
    "        $(this).hide();\n",
    "      }\n",
    "    });\n",
    "    $('div.output_prompt').css('opacity', 0);\n",
    "  } else {\n",
    "    $('div.input').each(function(id) {\n",
    "      $(this).show();\n",
    "    });\n",
    "    $('div.output_prompt').css('opacity', 1);\n",
    "  }\n",
    "  code_show = !code_show\n",
    "} \n",
    "$( document ).ready(code_toggle);\n",
    "</script>\n",
    "<form action=\"javascript:code_toggle()\">\n",
    "    <input style=\"opacity:0\" type=\"submit\" value=\"Click here to toggle on/off the raw code.\">\n",
    "</form>''')"
   ]
  },
  {
   "cell_type": "markdown",
   "metadata": {},
   "source": [
    "### Main parameters to set before computing:\n",
    "\n",
    "Basic values if not set by user:"
   ]
  },
  {
   "cell_type": "code",
   "execution_count": 4,
   "metadata": {},
   "outputs": [],
   "source": [
    "global FILE\n",
    "global PATH\n",
    "global detectors_num_glob\n",
    "global detector_deg_glob\n",
    "global iterations_glob\n",
    "global new\n",
    "global radius\n",
    "\n",
    "# file name of image to process *.bmp\n",
    "FILE = \"brain.bmp\"\n",
    "# localization in file system\n",
    "PATH = \"pictures\"\n",
    "\n",
    "# number of detectors\n",
    "detectors_num_glob = 135\n",
    "# angle between first and last detector\n",
    "detector_deg_glob = 90\n",
    "# number of iterations\n",
    "iterations_glob = 360\n",
    "\n",
    "new = []"
   ]
  },
  {
   "cell_type": "code",
   "execution_count": 5,
   "metadata": {},
   "outputs": [
    {
     "name": "stdout",
     "output_type": "stream",
     "text": [
      "Filename: \n"
     ]
    },
    {
     "data": {
      "application/vnd.jupyter.widget-view+json": {
       "model_id": "ba948a423b7c432ca2d08390b1744344",
       "version_major": 2,
       "version_minor": 0
      },
      "text/plain": [
       "Text(value='')"
      ]
     },
     "metadata": {},
     "output_type": "display_data"
    },
    {
     "name": "stdout",
     "output_type": "stream",
     "text": [
      "Path: \n"
     ]
    },
    {
     "data": {
      "application/vnd.jupyter.widget-view+json": {
       "model_id": "5d02e75e445d40b9b58003e4551828fc",
       "version_major": 2,
       "version_minor": 0
      },
      "text/plain": [
       "Text(value='')"
      ]
     },
     "metadata": {},
     "output_type": "display_data"
    },
    {
     "name": "stdout",
     "output_type": "stream",
     "text": [
      "Angle between first and last detector: \n"
     ]
    },
    {
     "data": {
      "application/vnd.jupyter.widget-view+json": {
       "model_id": "138262dc177342c68ed5dee4cfc6d137",
       "version_major": 2,
       "version_minor": 0
      },
      "text/plain": [
       "IntSlider(value=30, max=90, min=30)"
      ]
     },
     "metadata": {},
     "output_type": "display_data"
    },
    {
     "name": "stdout",
     "output_type": "stream",
     "text": [
      "Number of detectors: \n"
     ]
    },
    {
     "data": {
      "application/vnd.jupyter.widget-view+json": {
       "model_id": "71ee628c653b4f3a808abd4d2bda2a65",
       "version_major": 2,
       "version_minor": 0
      },
      "text/plain": [
       "IntSlider(value=5, max=400, min=5, step=5)"
      ]
     },
     "metadata": {},
     "output_type": "display_data"
    },
    {
     "name": "stdout",
     "output_type": "stream",
     "text": [
      "Number of iterations: \n"
     ]
    },
    {
     "data": {
      "application/vnd.jupyter.widget-view+json": {
       "model_id": "90642b3f5bd3415a99a5154d9a8ea88c",
       "version_major": 2,
       "version_minor": 0
      },
      "text/plain": [
       "IntSlider(value=5, max=360, min=5, step=5)"
      ]
     },
     "metadata": {},
     "output_type": "display_data"
    },
    {
     "data": {
      "application/vnd.jupyter.widget-view+json": {
       "model_id": "0941c81a6f7d446dbaaaae8080744cae",
       "version_major": 2,
       "version_minor": 0
      },
      "text/plain": [
       "Button(description='Confirm parameters', style=ButtonStyle())"
      ]
     },
     "metadata": {},
     "output_type": "display_data"
    },
    {
     "name": "stdout",
     "output_type": "stream",
     "text": [
      "angle:  90\n",
      "detectors:  130\n",
      "iterations:  360\n"
     ]
    }
   ],
   "source": [
    "hide_me\n",
    "filename = widgets.Text()\n",
    "print(\"Filename: \")\n",
    "display(filename)\n",
    "path = widgets.Text()\n",
    "print(\"Path: \")\n",
    "display(path)\n",
    "\n",
    "a = widgets.IntSlider(min = 30, max = 90, step = 1)\n",
    "bb = widgets.IntSlider(min = 5, max = 400, step = 5)\n",
    "c = widgets.IntSlider(min = 5, max = 360, step = 5)\n",
    "print(\"Angle between first and last detector: \")\n",
    "display(a)\n",
    "print(\"Number of detectors: \")\n",
    "display(bb)\n",
    "print(\"Number of iterations: \")\n",
    "display(c)\n",
    "\n",
    "confirm_button = widgets.Button(description = \"Confirm parameters\")\n",
    "\n",
    "def on_button_conf(b):\n",
    "    global detectors_num_glob\n",
    "    global detector_deg_glob\n",
    "    global iterations_glob\n",
    "\n",
    "    detector_deg_glob = a.value\n",
    "    detectors_num_glob = bb.value\n",
    "    iterations_glob = c.value\n",
    "    print(\"angle: \",  detector_deg_glob)\n",
    "    print(\"detectors: \",  detectors_num_glob)\n",
    "    print(\"iterations: \",  iterations_glob)\n",
    "\n",
    "\n",
    "def handle_filename(sender):\n",
    "    global FILE\n",
    "    FILE = filename.value\n",
    "    print(\"Filename updated !\")\n",
    "    \n",
    "def handle_path(sender):\n",
    "    global PATH\n",
    "    PATH = path.value\n",
    "    print(\"Path updated !\")\n",
    "    \n",
    "filename.on_submit(handle_filename)\n",
    "path.on_submit(handle_path)\n",
    "confirm_button.on_click(on_button_conf)\n",
    "display(confirm_button)"
   ]
  },
  {
   "cell_type": "markdown",
   "metadata": {},
   "source": [
    " ### Importing and showing original image:"
   ]
  },
  {
   "cell_type": "code",
   "execution_count": 6,
   "metadata": {},
   "outputs": [
    {
     "data": {
      "application/vnd.jupyter.widget-view+json": {
       "model_id": "325ac05392864adda37b51e7a20321e9",
       "version_major": 2,
       "version_minor": 0
      },
      "text/plain": [
       "Button(description='Load *.bmp file', style=ButtonStyle())"
      ]
     },
     "metadata": {},
     "output_type": "display_data"
    },
    {
     "data": {
      "application/vnd.jupyter.widget-view+json": {
       "model_id": "6bcc533a2b4345cb9a072f84a3f1a9b8",
       "version_major": 2,
       "version_minor": 0
      },
      "text/plain": [
       "Button(description='Load *.dcm file', style=ButtonStyle())"
      ]
     },
     "metadata": {},
     "output_type": "display_data"
    },
    {
     "data": {
      "image/png": "[encoded data removed]",
      "text/plain": [
       "<Figure size 432x288 with 1 Axes>"
      ]
     },
     "metadata": {},
     "output_type": "display_data"
    }
   ],
   "source": [
    "hide_me\n",
    "bmp_button = widgets.Button(description = \"Load *.bmp file\")\n",
    "dicom_button = widgets.Button(description = \"Load *.dcm file\")\n",
    "\n",
    "def on_button_bmp(b):\n",
    "    global FILE\n",
    "    global PATH\n",
    "    global new\n",
    "    global radius\n",
    "    pic_path = os.path.join(PATH, FILE)\n",
    "    img = Image.open(pic_path).convert('L')\n",
    "    new, radius = tf.make_square(img)\n",
    "    plt.imshow(new, cmap='gray')\n",
    "    plt.axis(\"off\")\n",
    "    plt.show()\n",
    "\n",
    "def on_button_dicom(b):\n",
    "    global FILE\n",
    "    global PATH\n",
    "    global new\n",
    "    global radius\n",
    "    pic_path = os.path.join(FILE)\n",
    "    ds2 = pydicom.dcmread(pic_path)\n",
    "    #ds2.pixel_array.shape\n",
    "    np_im = ds2.pixel_array\n",
    "    new_im = Image.fromarray(np_im)\n",
    "    new, radius = tf.make_square(new_im)\n",
    "    plt.imshow(new, cmap='gray')\n",
    "    plt.axis(\"off\")\n",
    "    plt.show()\n",
    "    \n",
    "bmp_button.on_click(on_button_bmp)\n",
    "display(bmp_button)\n",
    "dicom_button.on_click(on_button_dicom)\n",
    "display(dicom_button)"
   ]
  },
  {
   "cell_type": "markdown",
   "metadata": {},
   "source": [
    "### Main computations"
   ]
  },
  {
   "cell_type": "code",
   "execution_count": 12,
   "metadata": {
    "scrolled": false
   },
   "outputs": [],
   "source": [
    "global detectors_num_glob\n",
    "global detector_deg_glob\n",
    "global iterations_glob\n",
    "global new\n",
    "global radius\n",
    "\n",
    "out, history, sinogram, sinogram_history = tf.process_cone(detectors_num_glob, detector_deg_glob, iterations_glob, radius, new)"
   ]
  },
  {
   "cell_type": "code",
   "execution_count": 7,
   "metadata": {},
   "outputs": [],
   "source": [
    "global detectors_num_glob\n",
    "global detector_deg_glob\n",
    "global iterations_glob\n",
    "global new\n",
    "global radius\n",
    "\n",
    "out, history, sinogram, sinogram_history = tf.process_cone_filtered(detectors_num_glob, detector_deg_glob, iterations_glob, radius, new, 5)"
   ]
  },
  {
   "cell_type": "markdown",
   "metadata": {},
   "source": [
    "### Image after tomograph processing:"
   ]
  },
  {
   "cell_type": "code",
   "execution_count": 8,
   "metadata": {},
   "outputs": [
    {
     "name": "stdout",
     "output_type": "stream",
     "text": [
      "Image after Radon transform: \n"
     ]
    },
    {
     "data": {
      "image/png": "[encoded data removed]",
      "text/plain": [
       "<Figure size 432x288 with 1 Axes>"
      ]
     },
     "metadata": {},
     "output_type": "display_data"
    },
    {
     "name": "stdout",
     "output_type": "stream",
     "text": [
      "Sinogram: \n"
     ]
    },
    {
     "data": {
      "image/png": "[encoded data removed]",
      "text/plain": [
       "<Figure size 432x288 with 1 Axes>"
      ]
     },
     "metadata": {},
     "output_type": "display_data"
    }
   ],
   "source": [
    "final_image = tf.convert_to_image(out)\n",
    "sinogram_final = tf.convert_to_image(sinogram)\n",
    "\n",
    "print(\"Image after Radon transform: \")\n",
    "plt.imshow(final_image,cmap='gray')\n",
    "plt.axis(\"off\")\n",
    "plt.show()\n",
    "\n",
    "print(\"Sinogram: \")\n",
    "plt.imshow(sinogram_final,cmap='gray')\n",
    "plt.show()"
   ]
  },
  {
   "cell_type": "markdown",
   "metadata": {},
   "source": [
    "## Tomograph work animated:"
   ]
  },
  {
   "cell_type": "code",
   "execution_count": 18,
   "metadata": {
    "scrolled": false
   },
   "outputs": [
    {
     "data": {
      "text/plain": [
       "'\\nmpl.rcParams[\\'animation.embed_limit\\'] = 40.0\\n#history = prepare_images(history)\\nfig, ax = plt.subplots()\\nax.axis(\"off\")\\nimg = ax.imshow(history[0], cmap=\\'gray\\')\\nanim = animation.FuncAnimation(fig, animate, init_func=init,frames=len(history), interval=100)\\n\\nHTML(anim.to_jshtml())\\n'"
      ]
     },
     "execution_count": 18,
     "metadata": {},
     "output_type": "execute_result"
    }
   ],
   "source": [
    "def init():\n",
    "    img.set_data([[],[]])\n",
    "    return [img]\n",
    "\n",
    "def animate(i):\n",
    "    img.set_data(history[i])\n",
    "    return [img]\n",
    "\"\"\"\n",
    "mpl.rcParams['animation.embed_limit'] = 40.0\n",
    "#history = prepare_images(history)\n",
    "fig, ax = plt.subplots()\n",
    "ax.axis(\"off\")\n",
    "img = ax.imshow(history[0], cmap='gray')\n",
    "anim = animation.FuncAnimation(fig, animate, init_func=init,frames=len(history), interval=100)\n",
    "\n",
    "HTML(anim.to_jshtml())\n",
    "\"\"\""
   ]
  },
  {
   "cell_type": "markdown",
   "metadata": {},
   "source": [
    "## Sinogram creation animated"
   ]
  },
  {
   "cell_type": "code",
   "execution_count": 10,
   "metadata": {},
   "outputs": [
    {
     "data": {
      "text/plain": [
       "'\\nmpl.rcParams[\\'animation.embed_limit\\'] = 40.0\\nhistory = tf.prepare_sinograms(sinogram_history, iterations, detectors_num)\\nfig, ax = plt.subplots()\\nax.axis(\"off\")\\nimg = ax.imshow(history[0])\\nanim = animation.FuncAnimation(fig, animate, init_func=init,frames=len(history), interval=100)\\n\\nHTML(anim.to_jshtml())\\n'"
      ]
     },
     "execution_count": 10,
     "metadata": {},
     "output_type": "execute_result"
    }
   ],
   "source": [
    "def init():\n",
    "    img.set_data([[],[]])\n",
    "    return [img]\n",
    "\n",
    "def animate(i):\n",
    "    img.set_data(history[i])\n",
    "    return [img]\n",
    "\n",
    "\"\"\"\n",
    "mpl.rcParams['animation.embed_limit'] = 40.0\n",
    "history = tf.prepare_sinograms(sinogram_history, iterations, detectors_num)\n",
    "fig, ax = plt.subplots()\n",
    "ax.axis(\"off\")\n",
    "img = ax.imshow(history[0])\n",
    "anim = animation.FuncAnimation(fig, animate, init_func=init,frames=len(history), interval=100)\n",
    "\n",
    "HTML(anim.to_jshtml())\n",
    "\"\"\""
   ]
  },
  {
   "cell_type": "markdown",
   "metadata": {},
   "source": [
    "## Save image as DICOM file:"
   ]
  },
  {
   "cell_type": "code",
   "execution_count": 16,
   "metadata": {},
   "outputs": [],
   "source": [
    "filename = get_testdata_files(\"MR_small.dcm\")[0]\n",
    "ds = pydicom.dcmread(filename)"
   ]
  },
  {
   "cell_type": "code",
   "execution_count": 17,
   "metadata": {
    "slideshow": {
     "slide_type": "fragment"
    },
    "tags": [
     "hidecode"
    ]
   },
   "outputs": [
    {
     "name": "stdout",
     "output_type": "stream",
     "text": [
      "Name: \n"
     ]
    },
    {
     "data": {
      "application/vnd.jupyter.widget-view+json": {
       "model_id": "a10bb1854cd2490e86aade3df6ab85c7",
       "version_major": 2,
       "version_minor": 0
      },
      "text/plain": [
       "Text(value='')"
      ]
     },
     "metadata": {},
     "output_type": "display_data"
    },
    {
     "name": "stdout",
     "output_type": "stream",
     "text": [
      "Surname: \n"
     ]
    },
    {
     "data": {
      "application/vnd.jupyter.widget-view+json": {
       "model_id": "70ebca911f0f4dddb2301dc36c422523",
       "version_major": 2,
       "version_minor": 0
      },
      "text/plain": [
       "Text(value='')"
      ]
     },
     "metadata": {},
     "output_type": "display_data"
    },
    {
     "name": "stdout",
     "output_type": "stream",
     "text": [
      "Birthdate (YYYYMMDD): \n"
     ]
    },
    {
     "data": {
      "application/vnd.jupyter.widget-view+json": {
       "model_id": "0581f599711b4f0a825ec62f45ac3dda",
       "version_major": 2,
       "version_minor": 0
      },
      "text/plain": [
       "Text(value='')"
      ]
     },
     "metadata": {},
     "output_type": "display_data"
    },
    {
     "name": "stdout",
     "output_type": "stream",
     "text": [
      "Sex: \n"
     ]
    },
    {
     "data": {
      "application/vnd.jupyter.widget-view+json": {
       "model_id": "d04a479d1f054d9e9b6bba191c794c76",
       "version_major": 2,
       "version_minor": 0
      },
      "text/plain": [
       "Text(value='')"
      ]
     },
     "metadata": {},
     "output_type": "display_data"
    },
    {
     "name": "stdout",
     "output_type": "stream",
     "text": [
      "Weight: \n"
     ]
    },
    {
     "data": {
      "application/vnd.jupyter.widget-view+json": {
       "model_id": "45991d24d36e4197b3931922dca6c1b5",
       "version_major": 2,
       "version_minor": 0
      },
      "text/plain": [
       "Text(value='')"
      ]
     },
     "metadata": {},
     "output_type": "display_data"
    },
    {
     "name": "stdout",
     "output_type": "stream",
     "text": [
      "Date of study (YYYYMMDD): \n"
     ]
    },
    {
     "data": {
      "application/vnd.jupyter.widget-view+json": {
       "model_id": "e4e9f5624fb44b3facdf5dde81492321",
       "version_major": 2,
       "version_minor": 0
      },
      "text/plain": [
       "Text(value='')"
      ]
     },
     "metadata": {},
     "output_type": "display_data"
    },
    {
     "name": "stdout",
     "output_type": "stream",
     "text": [
      "Image comments: \n"
     ]
    },
    {
     "data": {
      "application/vnd.jupyter.widget-view+json": {
       "model_id": "e91e6e2fd8df4f58970453a5dacdc06b",
       "version_major": 2,
       "version_minor": 0
      },
      "text/plain": [
       "Text(value='')"
      ]
     },
     "metadata": {},
     "output_type": "display_data"
    }
   ],
   "source": [
    "hide_me\n",
    "name = widgets.Text()\n",
    "print(\"Name: \")\n",
    "display(name)\n",
    "surname = widgets.Text()\n",
    "print(\"Surname: \")\n",
    "display(surname)\n",
    "birthdate = widgets.Text()\n",
    "print(\"Birthdate (YYYYMMDD): \")\n",
    "display(birthdate)\n",
    "sex = widgets.Text()\n",
    "print(\"Sex: \")\n",
    "display(sex)\n",
    "weight = widgets.Text()\n",
    "print(\"Weight: \")\n",
    "display(weight)\n",
    "date = widgets.Text()\n",
    "print(\"Date of study (YYYYMMDD): \")\n",
    "display(date)\n",
    "comments = widgets.Text()\n",
    "print(\"Image comments: \")\n",
    "display(comments)\n",
    "\n",
    "\n",
    "\n",
    "def handle_name(sender):\n",
    "    ds.PatientName = name.value\n",
    "    print(\"Name added, add surname !\")\n",
    "    \n",
    "def handle_surname(sender):\n",
    "    name_var = ds.PatientName\n",
    "    name_var = str(name_var)\n",
    "    name_var += surname.value\n",
    "    ds.PatientName = name_var\n",
    "    print(\"Name and surname updated !\")\n",
    "\n",
    "def handle_birthdate(sender):\n",
    "    ds.PatientBirthDate = birthdate.value\n",
    "    print(\"Birth Day updated !\")\n",
    "    \n",
    "def handle_sex(sender):\n",
    "    ds.PatientSex = sex.value\n",
    "    print(\"Sex updated !\")\n",
    "    \n",
    "def handle_date(sender):\n",
    "    ds.StudyDate = date.value\n",
    "    print(\"Date of study updated ! \")\n",
    "    \n",
    "def handle_weight(sender):\n",
    "    ds.PatientWeight = weight.value\n",
    "    print(\"Weight updated !\")\n",
    "    \n",
    "def handle_comments(sender):\n",
    "    ds.ImageComments = comments.value\n",
    "    print(\"Comments updated !\")\n",
    "    \n",
    "name.on_submit(handle_name)\n",
    "surname.on_submit(handle_surname)\n",
    "birthdate.on_submit(handle_birthdate)\n",
    "sex.on_submit(handle_sex)\n",
    "date.on_submit(handle_date)\n",
    "weight.on_submit(handle_weight)\n",
    "comments.on_submit(handle_comments)"
   ]
  },
  {
   "cell_type": "code",
   "execution_count": 18,
   "metadata": {},
   "outputs": [
    {
     "data": {
      "application/vnd.jupyter.widget-view+json": {
       "model_id": "5bf2f4e743b04c56976086c0c1de5cd3",
       "version_major": 2,
       "version_minor": 0
      },
      "text/plain": [
       "Button(description='Add picture and save DICOM file', layout=Layout(height='80px', width='50%'), style=ButtonS…"
      ]
     },
     "metadata": {},
     "output_type": "display_data"
    }
   ],
   "source": [
    "hide_me\n",
    "save_button = widgets.Button(description = \"Add picture and save DICOM file\",\n",
    "                            layout=Layout(width='50%', height='80px'))\n",
    "\n",
    "def on_button_clicked(b):\n",
    "    im = np.array(final_image)\n",
    "    ds.PixelData = im.tobytes()\n",
    "    ds.Rows = final_image.size[0]\n",
    "    ds.Columns = final_image.size[1]\n",
    "    ds.SmallestImagePixelValue = min(map(min, im))\n",
    "    ds.LargestImagePixelValue = max(map(max, im))\n",
    "    ds.BitsAllocated = 8\n",
    "    ds.BitsStored = 8\n",
    "    ds.HighBit = 7\n",
    "    ds.PixelRepresentation = 0\n",
    "    ds[(0x7fe0,0x0010)].is_undefined_length = False\n",
    "    ds.save_as(\"test.dcm\")\n",
    "    \n",
    "save_button.on_click(on_button_clicked)\n",
    "display(save_button)"
   ]
  }
 ],
 "metadata": {
  "kernelspec": {
   "display_name": "Python 3",
   "language": "python",
   "name": "python3"
  },
  "language_info": {
   "codemirror_mode": {
    "name": "ipython",
    "version": 3
   },
   "file_extension": ".py",
   "mimetype": "text/x-python",
   "name": "python",
   "nbconvert_exporter": "python",
   "pygments_lexer": "ipython3",
   "version": "3.6.5"
  }
 },
 "nbformat": 4,
 "nbformat_minor": 2
}
