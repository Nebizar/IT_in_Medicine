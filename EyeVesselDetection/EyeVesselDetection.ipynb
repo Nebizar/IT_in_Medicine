{
 "cells": [
  {
   "cell_type": "code",
   "execution_count": 2,
   "metadata": {},
   "outputs": [],
   "source": [
    "from IPython.display import HTML, display\n",
    "import os\n",
    "import cv2\n",
    "import numpy as np\n",
    "from ipywidgets import widgets, Layout, interact\n",
    "import pandas as pd"
   ]
  },
  {
   "cell_type": "code",
   "execution_count": 3,
   "metadata": {},
   "outputs": [
    {
     "data": {
      "text/html": [
       "<script>\n",
       "code_show=true; \n",
       "function code_toggle() {\n",
       "  if (code_show) {\n",
       "    $('div.input').each(function(id) {\n",
       "      el = $(this).find('.cm-variable:first');\n",
       "      if (id == 0 || el.text() == 'hide_me') {\n",
       "        $(this).hide();\n",
       "      }\n",
       "    });\n",
       "    $('div.output_prompt').css('opacity', 0);\n",
       "  } else {\n",
       "    $('div.input').each(function(id) {\n",
       "      $(this).show();\n",
       "    });\n",
       "    $('div.output_prompt').css('opacity', 1);\n",
       "  }\n",
       "  code_show = !code_show\n",
       "} \n",
       "$( document ).ready(code_toggle);\n",
       "</script>\n",
       "<form action=\"javascript:code_toggle()\">\n",
       "    <input style=\"opacity:0\" type=\"submit\" value=\"Click here to toggle on/off the raw code.\">\n",
       "</form>"
      ],
      "text/plain": [
       "<IPython.core.display.HTML object>"
      ]
     },
     "execution_count": 3,
     "metadata": {},
     "output_type": "execute_result"
    }
   ],
   "source": [
    "hide_me = ''\n",
    "HTML('''<script>\n",
    "code_show=true; \n",
    "function code_toggle() {\n",
    "  if (code_show) {\n",
    "    $('div.input').each(function(id) {\n",
    "      el = $(this).find('.cm-variable:first');\n",
    "      if (id == 0 || el.text() == 'hide_me') {\n",
    "        $(this).hide();\n",
    "      }\n",
    "    });\n",
    "    $('div.output_prompt').css('opacity', 0);\n",
    "  } else {\n",
    "    $('div.input').each(function(id) {\n",
    "      $(this).show();\n",
    "    });\n",
    "    $('div.output_prompt').css('opacity', 1);\n",
    "  }\n",
    "  code_show = !code_show\n",
    "} \n",
    "$( document ).ready(code_toggle);\n",
    "</script>\n",
    "<form action=\"javascript:code_toggle()\">\n",
    "    <input style=\"opacity:0\" type=\"submit\" value=\"Click here to toggle on/off the raw code.\">\n",
    "</form>''')"
   ]
  },
  {
   "cell_type": "code",
   "execution_count": 4,
   "metadata": {},
   "outputs": [
    {
     "name": "stdout",
     "output_type": "stream",
     "text": [
      "Path: \n"
     ]
    },
    {
     "data": {
      "application/vnd.jupyter.widget-view+json": {
       "model_id": "956ab11fa47d41fe86f57a052db7598a",
       "version_major": 2,
       "version_minor": 0
      },
      "text/plain": [
       "Text(value='')"
      ]
     },
     "metadata": {},
     "output_type": "display_data"
    }
   ],
   "source": [
    "hide_me\n",
    "\n",
    "path = widgets.Text()\n",
    "print(\"Path: \")\n",
    "display(path)\n",
    "\n",
    "def handle_path(sender):\n",
    "    global PATH\n",
    "    PATH = path.value\n",
    "    print(\"Path updated !\")"
   ]
  },
  {
   "cell_type": "code",
   "execution_count": 5,
   "metadata": {},
   "outputs": [],
   "source": [
    "def read_files(directory, limit):\n",
    "    global PATH\n",
    "    files=[]\n",
    "    for file in os.listdir(directory):\n",
    "        if limit <=0:\n",
    "            break\n",
    "        image = cv2.imread(os.path.join(directory, file))\n",
    "        #image = cv2.cvtColor(image, cv2.COLOR_BGR2RGB)\n",
    "        files.append(image)\n",
    "        limit-=1\n",
    "    return files\n",
    "\n",
    "images = read_files('data/images/', 10)\n",
    "expected_results = read_files('data/manual1/', 10)\n",
    "masks = read_files('data/mask/', 10)"
   ]
  },
  {
   "cell_type": "code",
   "execution_count": 83,
   "metadata": {},
   "outputs": [],
   "source": [
    "def process_image(img):\n",
    "    #normalizacja histogramu kolorów\n",
    "    img = cv2.cvtColor(img, cv2.COLOR_BGR2YUV)\n",
    "    img[:,:,0] = cv2.equalizeHist(img[:,:,0])\n",
    "    res = cv2.cvtColor(img, cv2.COLOR_YUV2BGR)\n",
    "    #rozmycie\n",
    "    res = cv2.medianBlur(res,7)\n",
    "    return res\n",
    "\n",
    "\n",
    "img = images[0]\n",
    "filtered = process_image(img)\n",
    "\n",
    "cv2.imshow(\"original\", img)\n",
    "cv2.imshow(\"filtered\", filtered)\n",
    "cv2.waitKey(0)\n",
    "cv2.destroyAllWindows()\n",
    "\n",
    "\n",
    "#images=[process_image(img) for img in images]"
   ]
  },
  {
   "cell_type": "code",
   "execution_count": 29,
   "metadata": {},
   "outputs": [],
   "source": [
    "def split_image(img,exp, width, height):\n",
    "    img_width = img.shape[0]\n",
    "    img_height = img.shape[1]\n",
    "    tiles = [img[x:x+width,y:y+height] for x in range(0,img_width,width) for y in range(0,img_height,height)]\n",
    "    values =[exp[x,y] for x in range(width//2,img_width,width) for y in range(height//2,img_height,height)]\n",
    "    return tiles, values\n"
   ]
  },
  {
   "cell_type": "code",
   "execution_count": 30,
   "metadata": {},
   "outputs": [
    {
     "name": "stdout",
     "output_type": "stream",
     "text": [
      "0.3811555555555555\n"
     ]
    }
   ],
   "source": [
    "def get_data(img):\n",
    "    variance=np.var(img)\n",
    "    gray = cv2.cvtColor(img, cv2.COLOR_BGR2GRAY)\n",
    "    moments = cv2.moments(gray)\n",
    "    huMoments = cv2.HuMoments(moments)\n",
    "    result = [variance, moments, huMoments]\n",
    "    return result\n",
    "\n",
    "\n",
    "img=images[0]\n",
    "fragments, values=split_image(img,expected_results[0], 5, 5)\n",
    "data=[]\n",
    "for frag in fragments:\n",
    "    data.append(get_data(frag))\n",
    "\n",
    "print(data[0][0])"
   ]
  },
  {
   "cell_type": "code",
   "execution_count": 8,
   "metadata": {},
   "outputs": [
    {
     "name": "stdout",
     "output_type": "stream",
     "text": [
      "[[ 1.81375000e-01]\n",
      " [ 2.80189063e-03]\n",
      " [ 1.00642788e-03]\n",
      " [ 4.53053828e-05]\n",
      " [ 3.54680353e-09]\n",
      " [-8.34042599e-07]\n",
      " [-9.00059724e-09]]\n"
     ]
    }
   ],
   "source": [
    "print(data[0][2])"
   ]
  },
  {
   "cell_type": "code",
   "execution_count": 9,
   "metadata": {},
   "outputs": [
    {
     "data": {
      "text/plain": [
       "array([[0, 0, 0],\n",
       "       [0, 0, 0],\n",
       "       [0, 0, 0],\n",
       "       ...,\n",
       "       [0, 0, 0],\n",
       "       [0, 0, 0],\n",
       "       [0, 0, 0]], dtype=uint8)"
      ]
     },
     "execution_count": 9,
     "metadata": {},
     "output_type": "execute_result"
    }
   ],
   "source": [
    "expected_results[0][0]"
   ]
  },
  {
   "cell_type": "code",
   "execution_count": 40,
   "metadata": {},
   "outputs": [],
   "source": [
    "def createDataFrame(data):\n",
    "    final_frame = pd.DataFrame()\n",
    "    idx = ['hu0','hu1','hu2','hu3','hu4','hu5','hu6']\n",
    "    for example in data:\n",
    "        df1 = pd.DataFrame.from_dict(data = example[1], orient='index')\n",
    "        df2 = pd.DataFrame.from_dict(data = {\"variance\":example[0]}, orient ='index') \n",
    "        df3 = pd.DataFrame(example[2],index=idx)\n",
    "        frame = df2.append(df1.append(df3))\n",
    "        frame = frame.T\n",
    "        #print(\"FRAME ###########\")\n",
    "        #print(frame)\n",
    "        final_frame = final_frame.append(frame, ignore_index=True)\n",
    "        #print(\"FINAL FRAME ###############\")\n",
    "        #print(final_frame)\n",
    "    return final_frame\n",
    "\n",
    "def addDecision(frame, dec):\n",
    "    for i in range(0,len(dec)):\n",
    "        if sum(dec[i]) == 0:\n",
    "            dec[i] = 0\n",
    "        else:\n",
    "            dec[i] = 1\n",
    "    frame['vessel'] = dec\n",
    "    return frame"
   ]
  },
  {
   "cell_type": "code",
   "execution_count": 41,
   "metadata": {},
   "outputs": [
    {
     "ename": "KeyboardInterrupt",
     "evalue": "",
     "output_type": "error",
     "traceback": [
      "\u001b[1;31m---------------------------------------------------------------------------\u001b[0m",
      "\u001b[1;31mKeyboardInterrupt\u001b[0m                         Traceback (most recent call last)",
      "\u001b[1;32m<ipython-input-41-4d89926fa7a6>\u001b[0m in \u001b[0;36m<module>\u001b[1;34m\u001b[0m\n\u001b[1;32m----> 1\u001b[1;33m \u001b[0mdf_final\u001b[0m \u001b[1;33m=\u001b[0m \u001b[0mcreateDataFrame\u001b[0m\u001b[1;33m(\u001b[0m\u001b[0mdata\u001b[0m\u001b[1;33m)\u001b[0m\u001b[1;33m\u001b[0m\u001b[0m\n\u001b[0m",
      "\u001b[1;32m<ipython-input-40-f1dbd53f02f0>\u001b[0m in \u001b[0;36mcreateDataFrame\u001b[1;34m(data)\u001b[0m\n\u001b[0;32m     10\u001b[0m         \u001b[1;31m#print(\"FRAME ###########\")\u001b[0m\u001b[1;33m\u001b[0m\u001b[1;33m\u001b[0m\u001b[0m\n\u001b[0;32m     11\u001b[0m         \u001b[1;31m#print(frame)\u001b[0m\u001b[1;33m\u001b[0m\u001b[1;33m\u001b[0m\u001b[0m\n\u001b[1;32m---> 12\u001b[1;33m         \u001b[0mfinal_frame\u001b[0m \u001b[1;33m=\u001b[0m \u001b[0mfinal_frame\u001b[0m\u001b[1;33m.\u001b[0m\u001b[0mappend\u001b[0m\u001b[1;33m(\u001b[0m\u001b[0mframe\u001b[0m\u001b[1;33m,\u001b[0m \u001b[0mignore_index\u001b[0m\u001b[1;33m=\u001b[0m\u001b[1;32mTrue\u001b[0m\u001b[1;33m)\u001b[0m\u001b[1;33m\u001b[0m\u001b[0m\n\u001b[0m\u001b[0;32m     13\u001b[0m         \u001b[1;31m#print(\"FINAL FRAME ###############\")\u001b[0m\u001b[1;33m\u001b[0m\u001b[1;33m\u001b[0m\u001b[0m\n\u001b[0;32m     14\u001b[0m         \u001b[1;31m#print(final_frame)\u001b[0m\u001b[1;33m\u001b[0m\u001b[1;33m\u001b[0m\u001b[0m\n",
      "\u001b[1;32m~\\AppData\\Local\\Continuum\\anaconda3\\lib\\site-packages\\pandas\\core\\frame.py\u001b[0m in \u001b[0;36mappend\u001b[1;34m(self, other, ignore_index, verify_integrity, sort)\u001b[0m\n\u001b[0;32m   6199\u001b[0m         return concat(to_concat, ignore_index=ignore_index,\n\u001b[0;32m   6200\u001b[0m                       \u001b[0mverify_integrity\u001b[0m\u001b[1;33m=\u001b[0m\u001b[0mverify_integrity\u001b[0m\u001b[1;33m,\u001b[0m\u001b[1;33m\u001b[0m\u001b[0m\n\u001b[1;32m-> 6201\u001b[1;33m                       sort=sort)\n\u001b[0m\u001b[0;32m   6202\u001b[0m \u001b[1;33m\u001b[0m\u001b[0m\n\u001b[0;32m   6203\u001b[0m     def join(self, other, on=None, how='left', lsuffix='', rsuffix='',\n",
      "\u001b[1;32m~\\AppData\\Local\\Continuum\\anaconda3\\lib\\site-packages\\pandas\\core\\reshape\\concat.py\u001b[0m in \u001b[0;36mconcat\u001b[1;34m(objs, axis, join, join_axes, ignore_index, keys, levels, names, verify_integrity, sort, copy)\u001b[0m\n\u001b[0;32m    224\u001b[0m                        \u001b[0mverify_integrity\u001b[0m\u001b[1;33m=\u001b[0m\u001b[0mverify_integrity\u001b[0m\u001b[1;33m,\u001b[0m\u001b[1;33m\u001b[0m\u001b[0m\n\u001b[0;32m    225\u001b[0m                        copy=copy, sort=sort)\n\u001b[1;32m--> 226\u001b[1;33m     \u001b[1;32mreturn\u001b[0m \u001b[0mop\u001b[0m\u001b[1;33m.\u001b[0m\u001b[0mget_result\u001b[0m\u001b[1;33m(\u001b[0m\u001b[1;33m)\u001b[0m\u001b[1;33m\u001b[0m\u001b[0m\n\u001b[0m\u001b[0;32m    227\u001b[0m \u001b[1;33m\u001b[0m\u001b[0m\n\u001b[0;32m    228\u001b[0m \u001b[1;33m\u001b[0m\u001b[0m\n",
      "\u001b[1;32m~\\AppData\\Local\\Continuum\\anaconda3\\lib\\site-packages\\pandas\\core\\reshape\\concat.py\u001b[0m in \u001b[0;36mget_result\u001b[1;34m(self)\u001b[0m\n\u001b[0;32m    421\u001b[0m             new_data = concatenate_block_managers(\n\u001b[0;32m    422\u001b[0m                 \u001b[0mmgrs_indexers\u001b[0m\u001b[1;33m,\u001b[0m \u001b[0mself\u001b[0m\u001b[1;33m.\u001b[0m\u001b[0mnew_axes\u001b[0m\u001b[1;33m,\u001b[0m \u001b[0mconcat_axis\u001b[0m\u001b[1;33m=\u001b[0m\u001b[0mself\u001b[0m\u001b[1;33m.\u001b[0m\u001b[0maxis\u001b[0m\u001b[1;33m,\u001b[0m\u001b[1;33m\u001b[0m\u001b[0m\n\u001b[1;32m--> 423\u001b[1;33m                 copy=self.copy)\n\u001b[0m\u001b[0;32m    424\u001b[0m             \u001b[1;32mif\u001b[0m \u001b[1;32mnot\u001b[0m \u001b[0mself\u001b[0m\u001b[1;33m.\u001b[0m\u001b[0mcopy\u001b[0m\u001b[1;33m:\u001b[0m\u001b[1;33m\u001b[0m\u001b[0m\n\u001b[0;32m    425\u001b[0m                 \u001b[0mnew_data\u001b[0m\u001b[1;33m.\u001b[0m\u001b[0m_consolidate_inplace\u001b[0m\u001b[1;33m(\u001b[0m\u001b[1;33m)\u001b[0m\u001b[1;33m\u001b[0m\u001b[0m\n",
      "\u001b[1;32m~\\AppData\\Local\\Continuum\\anaconda3\\lib\\site-packages\\pandas\\core\\internals.py\u001b[0m in \u001b[0;36mconcatenate_block_managers\u001b[1;34m(mgrs_indexers, axes, concat_axis, copy)\u001b[0m\n\u001b[0;32m   5416\u001b[0m         \u001b[1;32melif\u001b[0m \u001b[0mis_uniform_join_units\u001b[0m\u001b[1;33m(\u001b[0m\u001b[0mjoin_units\u001b[0m\u001b[1;33m)\u001b[0m\u001b[1;33m:\u001b[0m\u001b[1;33m\u001b[0m\u001b[0m\n\u001b[0;32m   5417\u001b[0m             b = join_units[0].block.concat_same_type(\n\u001b[1;32m-> 5418\u001b[1;33m                 [ju.block for ju in join_units], placement=placement)\n\u001b[0m\u001b[0;32m   5419\u001b[0m         \u001b[1;32melse\u001b[0m\u001b[1;33m:\u001b[0m\u001b[1;33m\u001b[0m\u001b[0m\n\u001b[0;32m   5420\u001b[0m             b = make_block(\n",
      "\u001b[1;32m~\\AppData\\Local\\Continuum\\anaconda3\\lib\\site-packages\\pandas\\core\\internals.py\u001b[0m in \u001b[0;36mconcat_same_type\u001b[1;34m(self, to_concat, placement)\u001b[0m\n\u001b[0;32m    366\u001b[0m         \"\"\"\n\u001b[0;32m    367\u001b[0m         values = self._concatenator([blk.values for blk in to_concat],\n\u001b[1;32m--> 368\u001b[1;33m                                     axis=self.ndim - 1)\n\u001b[0m\u001b[0;32m    369\u001b[0m         return self.make_block_same_class(\n\u001b[0;32m    370\u001b[0m             values, placement=placement or slice(0, len(values), 1))\n",
      "\u001b[1;31mKeyboardInterrupt\u001b[0m: "
     ]
    }
   ],
   "source": [
    "df_final = createDataFrame(data)"
   ]
  },
  {
   "cell_type": "code",
   "execution_count": 79,
   "metadata": {},
   "outputs": [
    {
     "data": {
      "text/html": [
       "<div>\n",
       "<style scoped>\n",
       "    .dataframe tbody tr th:only-of-type {\n",
       "        vertical-align: middle;\n",
       "    }\n",
       "\n",
       "    .dataframe tbody tr th {\n",
       "        vertical-align: top;\n",
       "    }\n",
       "\n",
       "    .dataframe thead th {\n",
       "        text-align: right;\n",
       "    }\n",
       "</style>\n",
       "<table border=\"1\" class=\"dataframe\">\n",
       "  <thead>\n",
       "    <tr style=\"text-align: right;\">\n",
       "      <th></th>\n",
       "      <th>variance</th>\n",
       "      <th>m00</th>\n",
       "      <th>m10</th>\n",
       "      <th>m01</th>\n",
       "      <th>m20</th>\n",
       "      <th>m11</th>\n",
       "      <th>m02</th>\n",
       "      <th>m30</th>\n",
       "      <th>m21</th>\n",
       "      <th>m12</th>\n",
       "      <th>...</th>\n",
       "      <th>nu21</th>\n",
       "      <th>nu12</th>\n",
       "      <th>nu03</th>\n",
       "      <th>hu0</th>\n",
       "      <th>hu1</th>\n",
       "      <th>hu2</th>\n",
       "      <th>hu3</th>\n",
       "      <th>hu4</th>\n",
       "      <th>hu5</th>\n",
       "      <th>hu6</th>\n",
       "    </tr>\n",
       "  </thead>\n",
       "  <tbody>\n",
       "    <tr>\n",
       "      <th>0</th>\n",
       "      <td>0.416233</td>\n",
       "      <td>45.0</td>\n",
       "      <td>171.0</td>\n",
       "      <td>154.0</td>\n",
       "      <td>839.0</td>\n",
       "      <td>609.0</td>\n",
       "      <td>702.0</td>\n",
       "      <td>4575.0</td>\n",
       "      <td>3093.0</td>\n",
       "      <td>2865.0</td>\n",
       "      <td>...</td>\n",
       "      <td>0.003009</td>\n",
       "      <td>0.002540</td>\n",
       "      <td>0.002943</td>\n",
       "      <td>0.179841</td>\n",
       "      <td>0.000602</td>\n",
       "      <td>0.000167</td>\n",
       "      <td>0.000037</td>\n",
       "      <td>-2.579236e-09</td>\n",
       "      <td>-5.805786e-07</td>\n",
       "      <td>-1.315888e-09</td>\n",
       "    </tr>\n",
       "    <tr>\n",
       "      <th>1</th>\n",
       "      <td>0.437473</td>\n",
       "      <td>42.0</td>\n",
       "      <td>172.0</td>\n",
       "      <td>169.0</td>\n",
       "      <td>932.0</td>\n",
       "      <td>685.0</td>\n",
       "      <td>877.0</td>\n",
       "      <td>5464.0</td>\n",
       "      <td>3571.0</td>\n",
       "      <td>3669.0</td>\n",
       "      <td>...</td>\n",
       "      <td>-0.010591</td>\n",
       "      <td>0.011772</td>\n",
       "      <td>-0.007441</td>\n",
       "      <td>0.240700</td>\n",
       "      <td>0.000366</td>\n",
       "      <td>0.003541</td>\n",
       "      <td>0.000377</td>\n",
       "      <td>-4.359854e-07</td>\n",
       "      <td>-6.837591e-06</td>\n",
       "      <td>3.307327e-09</td>\n",
       "    </tr>\n",
       "    <tr>\n",
       "      <th>2</th>\n",
       "      <td>0.218641</td>\n",
       "      <td>18.0</td>\n",
       "      <td>60.0</td>\n",
       "      <td>58.0</td>\n",
       "      <td>302.0</td>\n",
       "      <td>188.0</td>\n",
       "      <td>284.0</td>\n",
       "      <td>1686.0</td>\n",
       "      <td>940.0</td>\n",
       "      <td>1036.0</td>\n",
       "      <td>...</td>\n",
       "      <td>0.001778</td>\n",
       "      <td>0.089991</td>\n",
       "      <td>-0.053061</td>\n",
       "      <td>0.614540</td>\n",
       "      <td>0.001312</td>\n",
       "      <td>0.076558</td>\n",
       "      <td>0.010641</td>\n",
       "      <td>-6.704543e-05</td>\n",
       "      <td>3.834329e-04</td>\n",
       "      <td>-2.962390e-04</td>\n",
       "    </tr>\n",
       "  </tbody>\n",
       "</table>\n",
       "<p>3 rows × 32 columns</p>\n",
       "</div>"
      ],
      "text/plain": [
       "   variance   m00    m10    m01    m20    m11    m02     m30     m21     m12  \\\n",
       "0  0.416233  45.0  171.0  154.0  839.0  609.0  702.0  4575.0  3093.0  2865.0   \n",
       "1  0.437473  42.0  172.0  169.0  932.0  685.0  877.0  5464.0  3571.0  3669.0   \n",
       "2  0.218641  18.0   60.0   58.0  302.0  188.0  284.0  1686.0   940.0  1036.0   \n",
       "\n",
       "       ...           nu21      nu12      nu03       hu0       hu1       hu2  \\\n",
       "0      ...       0.003009  0.002540  0.002943  0.179841  0.000602  0.000167   \n",
       "1      ...      -0.010591  0.011772 -0.007441  0.240700  0.000366  0.003541   \n",
       "2      ...       0.001778  0.089991 -0.053061  0.614540  0.001312  0.076558   \n",
       "\n",
       "        hu3           hu4           hu5           hu6  \n",
       "0  0.000037 -2.579236e-09 -5.805786e-07 -1.315888e-09  \n",
       "1  0.000377 -4.359854e-07 -6.837591e-06  3.307327e-09  \n",
       "2  0.010641 -6.704543e-05  3.834329e-04 -2.962390e-04  \n",
       "\n",
       "[3 rows x 32 columns]"
      ]
     },
     "execution_count": 79,
     "metadata": {},
     "output_type": "execute_result"
    }
   ],
   "source": [
    "df_final"
   ]
  },
  {
   "cell_type": "code",
   "execution_count": null,
   "metadata": {},
   "outputs": [],
   "source": [
    "df_final = addDecision(df_final, values)"
   ]
  },
  {
   "cell_type": "code",
   "execution_count": 84,
   "metadata": {},
   "outputs": [
    {
     "data": {
      "text/plain": [
       "(2336, 3504, 3)"
      ]
     },
     "execution_count": 84,
     "metadata": {},
     "output_type": "execute_result"
    }
   ],
   "source": [
    "images[0].shape"
   ]
  },
  {
   "cell_type": "code",
   "execution_count": 10,
   "metadata": {},
   "outputs": [
    {
     "data": {
      "text/plain": [
       "(2336, 3504, 3)"
      ]
     },
     "execution_count": 10,
     "metadata": {},
     "output_type": "execute_result"
    }
   ],
   "source": [
    "masks[0].shape"
   ]
  },
  {
   "cell_type": "code",
   "execution_count": 23,
   "metadata": {},
   "outputs": [
    {
     "data": {
      "text/plain": [
       "(2336, 3504, 3)"
      ]
     },
     "execution_count": 23,
     "metadata": {},
     "output_type": "execute_result"
    }
   ],
   "source": [
    "expected_results[0].shape"
   ]
  },
  {
   "cell_type": "code",
   "execution_count": 19,
   "metadata": {},
   "outputs": [
    {
     "data": {
      "text/plain": [
       "array([0, 0, 0], dtype=uint8)"
      ]
     },
     "execution_count": 19,
     "metadata": {},
     "output_type": "execute_result"
    }
   ],
   "source": [
    "expected_results[0][1444][1784]"
   ]
  },
  {
   "cell_type": "code",
   "execution_count": null,
   "metadata": {},
   "outputs": [],
   "source": [
    "#decision data - how to do it XD"
   ]
  },
  {
   "cell_type": "code",
   "execution_count": 35,
   "metadata": {},
   "outputs": [
    {
     "data": {
      "text/plain": [
       "327367"
      ]
     },
     "execution_count": 35,
     "metadata": {},
     "output_type": "execute_result"
    }
   ],
   "source": [
    "len(values)"
   ]
  },
  {
   "cell_type": "code",
   "execution_count": 38,
   "metadata": {},
   "outputs": [
    {
     "data": {
      "text/plain": [
       "765"
      ]
     },
     "execution_count": 38,
     "metadata": {},
     "output_type": "execute_result"
    }
   ],
   "source": [
    "sum([255,255,255])"
   ]
  },
  {
   "cell_type": "code",
   "execution_count": null,
   "metadata": {
    "scrolled": false
   },
   "outputs": [],
   "source": []
  },
  {
   "cell_type": "code",
   "execution_count": null,
   "metadata": {},
   "outputs": [],
   "source": []
  }
 ],
 "metadata": {
  "kernelspec": {
   "display_name": "Python 3",
   "language": "python",
   "name": "python3"
  },
  "language_info": {
   "codemirror_mode": {
    "name": "ipython",
    "version": 3
   },
   "file_extension": ".py",
   "mimetype": "text/x-python",
   "name": "python",
   "nbconvert_exporter": "python",
   "pygments_lexer": "ipython3",
   "version": "3.6.5"
  }
 },
 "nbformat": 4,
 "nbformat_minor": 2
}
