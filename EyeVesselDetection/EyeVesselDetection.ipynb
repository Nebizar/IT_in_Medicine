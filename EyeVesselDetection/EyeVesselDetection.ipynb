{
 "cells": [
  {
   "cell_type": "code",
   "execution_count": 13,
   "metadata": {},
   "outputs": [],
   "source": [
    "from IPython.display import HTML, display\n",
    "import os\n",
    "import cv2\n",
    "import numpy as np\n",
    "from ipywidgets import widgets, Layout, interact\n",
    "import pandas as pd"
   ]
  },
  {
   "cell_type": "code",
   "execution_count": 2,
   "metadata": {},
   "outputs": [
    {
     "data": {
      "text/html": [
       "<script>\n",
       "code_show=true; \n",
       "function code_toggle() {\n",
       "  if (code_show) {\n",
       "    $('div.input').each(function(id) {\n",
       "      el = $(this).find('.cm-variable:first');\n",
       "      if (id == 0 || el.text() == 'hide_me') {\n",
       "        $(this).hide();\n",
       "      }\n",
       "    });\n",
       "    $('div.output_prompt').css('opacity', 0);\n",
       "  } else {\n",
       "    $('div.input').each(function(id) {\n",
       "      $(this).show();\n",
       "    });\n",
       "    $('div.output_prompt').css('opacity', 1);\n",
       "  }\n",
       "  code_show = !code_show\n",
       "} \n",
       "$( document ).ready(code_toggle);\n",
       "</script>\n",
       "<form action=\"javascript:code_toggle()\">\n",
       "    <input style=\"opacity:0\" type=\"submit\" value=\"Click here to toggle on/off the raw code.\">\n",
       "</form>"
      ],
      "text/plain": [
       "<IPython.core.display.HTML object>"
      ]
     },
     "execution_count": 2,
     "metadata": {},
     "output_type": "execute_result"
    }
   ],
   "source": [
    "hide_me = ''\n",
    "HTML('''<script>\n",
    "code_show=true; \n",
    "function code_toggle() {\n",
    "  if (code_show) {\n",
    "    $('div.input').each(function(id) {\n",
    "      el = $(this).find('.cm-variable:first');\n",
    "      if (id == 0 || el.text() == 'hide_me') {\n",
    "        $(this).hide();\n",
    "      }\n",
    "    });\n",
    "    $('div.output_prompt').css('opacity', 0);\n",
    "  } else {\n",
    "    $('div.input').each(function(id) {\n",
    "      $(this).show();\n",
    "    });\n",
    "    $('div.output_prompt').css('opacity', 1);\n",
    "  }\n",
    "  code_show = !code_show\n",
    "} \n",
    "$( document ).ready(code_toggle);\n",
    "</script>\n",
    "<form action=\"javascript:code_toggle()\">\n",
    "    <input style=\"opacity:0\" type=\"submit\" value=\"Click here to toggle on/off the raw code.\">\n",
    "</form>''')"
   ]
  },
  {
   "cell_type": "code",
   "execution_count": 3,
   "metadata": {},
   "outputs": [
    {
     "name": "stdout",
     "output_type": "stream",
     "text": [
      "Path: \n"
     ]
    },
    {
     "data": {
      "application/vnd.jupyter.widget-view+json": {
       "model_id": "00f606e845014bcf86561ecd1382c742",
       "version_major": 2,
       "version_minor": 0
      },
      "text/plain": [
       "Text(value='')"
      ]
     },
     "metadata": {},
     "output_type": "display_data"
    }
   ],
   "source": [
    "hide_me\n",
    "\n",
    "path = widgets.Text()\n",
    "print(\"Path: \")\n",
    "display(path)\n",
    "\n",
    "def handle_path(sender):\n",
    "    global PATH\n",
    "    PATH = path.value\n",
    "    print(\"Path updated !\")"
   ]
  },
  {
   "cell_type": "code",
   "execution_count": 4,
   "metadata": {},
   "outputs": [],
   "source": [
    "def read_files(directory, limit):\n",
    "    global PATH\n",
    "    files=[]\n",
    "    for file in os.listdir(directory):\n",
    "        if limit <=0:\n",
    "            break\n",
    "        image = cv2.imread(os.path.join(directory, file))\n",
    "        #image = cv2.cvtColor(image, cv2.COLOR_BGR2RGB)\n",
    "        files.append(image)\n",
    "        limit-=1\n",
    "    return files\n",
    "\n",
    "images = read_files('data/images/', 10)\n",
    "expected_results = read_files('data/manual1/', 10)\n",
    "masks = read_files('data/mask/', 10)"
   ]
  },
  {
   "cell_type": "code",
   "execution_count": 83,
   "metadata": {},
   "outputs": [],
   "source": [
    "def process_image(img):\n",
    "    #normalizacja histogramu kolorów\n",
    "    img = cv2.cvtColor(img, cv2.COLOR_BGR2YUV)\n",
    "    img[:,:,0] = cv2.equalizeHist(img[:,:,0])\n",
    "    res = cv2.cvtColor(img, cv2.COLOR_YUV2BGR)\n",
    "    #rozmycie\n",
    "    res = cv2.medianBlur(res,7)\n",
    "    return res\n",
    "\n",
    "\n",
    "img = images[0]\n",
    "filtered = process_image(img)\n",
    "\n",
    "cv2.imshow(\"original\", img)\n",
    "cv2.imshow(\"filtered\", filtered)\n",
    "cv2.waitKey(0)\n",
    "cv2.destroyAllWindows()\n",
    "\n",
    "\n",
    "#images=[process_image(img) for img in images]"
   ]
  },
  {
   "cell_type": "code",
   "execution_count": 5,
   "metadata": {},
   "outputs": [],
   "source": [
    "def split_image(img, width, height):\n",
    "    img_width = img.shape[0]\n",
    "    img_height = img.shape[1]\n",
    "    tiles = [img[x:x+width,y:y+height] for x in range(0,img_width,width) for y in range(0,img_height,height)]\n",
    "    return tiles\n"
   ]
  },
  {
   "cell_type": "code",
   "execution_count": 81,
   "metadata": {},
   "outputs": [
    {
     "name": "stdout",
     "output_type": "stream",
     "text": [
      "0.3811555555555555\n"
     ]
    }
   ],
   "source": [
    "def get_data(img):\n",
    "    variance=np.var(img)\n",
    "    gray = cv2.cvtColor(img, cv2.COLOR_BGR2GRAY)\n",
    "    moments = cv2.moments(gray)\n",
    "    huMoments = cv2.HuMoments(moments)\n",
    "    #TODO\n",
    "    #more?\n",
    "    result = [variance, moments, huMoments]\n",
    "    return result\n",
    "\n",
    "\n",
    "img=images[0]\n",
    "fragments=split_image(img, 5, 5)\n",
    "data=[]\n",
    "for frag in fragments:\n",
    "    data.append(get_data(frag))\n",
    "\n",
    "print(data[0][0])"
   ]
  },
  {
   "cell_type": "code",
   "execution_count": 82,
   "metadata": {},
   "outputs": [
    {
     "name": "stdout",
     "output_type": "stream",
     "text": [
      "[[ 1.81375000e-01]\n",
      " [ 2.80189063e-03]\n",
      " [ 1.00642788e-03]\n",
      " [ 4.53053828e-05]\n",
      " [ 3.54680353e-09]\n",
      " [-8.34042599e-07]\n",
      " [-9.00059724e-09]]\n"
     ]
    }
   ],
   "source": [
    "print(data[0][2])"
   ]
  },
  {
   "cell_type": "code",
   "execution_count": 14,
   "metadata": {},
   "outputs": [
    {
     "data": {
      "text/plain": [
       "array([[0, 0, 0],\n",
       "       [0, 0, 0],\n",
       "       [0, 0, 0],\n",
       "       ...,\n",
       "       [0, 0, 0],\n",
       "       [0, 0, 0],\n",
       "       [0, 0, 0]], dtype=uint8)"
      ]
     },
     "execution_count": 14,
     "metadata": {},
     "output_type": "execute_result"
    }
   ],
   "source": [
    "expected_results[0][0]"
   ]
  },
  {
   "cell_type": "code",
   "execution_count": 77,
   "metadata": {},
   "outputs": [],
   "source": [
    "def createDataFrame(data):\n",
    "    final_frame = pd.DataFrame()\n",
    "    idx = ['hu0','hu1','hu2','hu3','hu4','hu5','hu6']\n",
    "    for example in [data[0],data[1],data[2]]:\n",
    "        df1 = pd.DataFrame.from_dict(data = example[1], orient='index')\n",
    "        df2 = pd.DataFrame.from_dict(data = {\"variance\":example[0]}, orient ='index') \n",
    "        df3 = pd.DataFrame(example[2],index=idx)\n",
    "        frame = df2.append(df1.append(df3))\n",
    "        frame = frame.T\n",
    "        #print(\"FRAME ###########\")\n",
    "        #print(frame)\n",
    "        final_frame = final_frame.append(frame, ignore_index=True)\n",
    "        #print(\"FINAL FRAME ###############\")\n",
    "        #print(final_frame)\n",
    "    return final_frame\n",
    "        "
   ]
  },
  {
   "cell_type": "code",
   "execution_count": 78,
   "metadata": {},
   "outputs": [],
   "source": [
    "df_final = createDataFrame(data)"
   ]
  },
  {
   "cell_type": "code",
   "execution_count": 79,
   "metadata": {},
   "outputs": [
    {
     "data": {
      "text/html": [
       "<div>\n",
       "<style scoped>\n",
       "    .dataframe tbody tr th:only-of-type {\n",
       "        vertical-align: middle;\n",
       "    }\n",
       "\n",
       "    .dataframe tbody tr th {\n",
       "        vertical-align: top;\n",
       "    }\n",
       "\n",
       "    .dataframe thead th {\n",
       "        text-align: right;\n",
       "    }\n",
       "</style>\n",
       "<table border=\"1\" class=\"dataframe\">\n",
       "  <thead>\n",
       "    <tr style=\"text-align: right;\">\n",
       "      <th></th>\n",
       "      <th>variance</th>\n",
       "      <th>m00</th>\n",
       "      <th>m10</th>\n",
       "      <th>m01</th>\n",
       "      <th>m20</th>\n",
       "      <th>m11</th>\n",
       "      <th>m02</th>\n",
       "      <th>m30</th>\n",
       "      <th>m21</th>\n",
       "      <th>m12</th>\n",
       "      <th>...</th>\n",
       "      <th>nu21</th>\n",
       "      <th>nu12</th>\n",
       "      <th>nu03</th>\n",
       "      <th>hu0</th>\n",
       "      <th>hu1</th>\n",
       "      <th>hu2</th>\n",
       "      <th>hu3</th>\n",
       "      <th>hu4</th>\n",
       "      <th>hu5</th>\n",
       "      <th>hu6</th>\n",
       "    </tr>\n",
       "  </thead>\n",
       "  <tbody>\n",
       "    <tr>\n",
       "      <th>0</th>\n",
       "      <td>0.416233</td>\n",
       "      <td>45.0</td>\n",
       "      <td>171.0</td>\n",
       "      <td>154.0</td>\n",
       "      <td>839.0</td>\n",
       "      <td>609.0</td>\n",
       "      <td>702.0</td>\n",
       "      <td>4575.0</td>\n",
       "      <td>3093.0</td>\n",
       "      <td>2865.0</td>\n",
       "      <td>...</td>\n",
       "      <td>0.003009</td>\n",
       "      <td>0.002540</td>\n",
       "      <td>0.002943</td>\n",
       "      <td>0.179841</td>\n",
       "      <td>0.000602</td>\n",
       "      <td>0.000167</td>\n",
       "      <td>0.000037</td>\n",
       "      <td>-2.579236e-09</td>\n",
       "      <td>-5.805786e-07</td>\n",
       "      <td>-1.315888e-09</td>\n",
       "    </tr>\n",
       "    <tr>\n",
       "      <th>1</th>\n",
       "      <td>0.437473</td>\n",
       "      <td>42.0</td>\n",
       "      <td>172.0</td>\n",
       "      <td>169.0</td>\n",
       "      <td>932.0</td>\n",
       "      <td>685.0</td>\n",
       "      <td>877.0</td>\n",
       "      <td>5464.0</td>\n",
       "      <td>3571.0</td>\n",
       "      <td>3669.0</td>\n",
       "      <td>...</td>\n",
       "      <td>-0.010591</td>\n",
       "      <td>0.011772</td>\n",
       "      <td>-0.007441</td>\n",
       "      <td>0.240700</td>\n",
       "      <td>0.000366</td>\n",
       "      <td>0.003541</td>\n",
       "      <td>0.000377</td>\n",
       "      <td>-4.359854e-07</td>\n",
       "      <td>-6.837591e-06</td>\n",
       "      <td>3.307327e-09</td>\n",
       "    </tr>\n",
       "    <tr>\n",
       "      <th>2</th>\n",
       "      <td>0.218641</td>\n",
       "      <td>18.0</td>\n",
       "      <td>60.0</td>\n",
       "      <td>58.0</td>\n",
       "      <td>302.0</td>\n",
       "      <td>188.0</td>\n",
       "      <td>284.0</td>\n",
       "      <td>1686.0</td>\n",
       "      <td>940.0</td>\n",
       "      <td>1036.0</td>\n",
       "      <td>...</td>\n",
       "      <td>0.001778</td>\n",
       "      <td>0.089991</td>\n",
       "      <td>-0.053061</td>\n",
       "      <td>0.614540</td>\n",
       "      <td>0.001312</td>\n",
       "      <td>0.076558</td>\n",
       "      <td>0.010641</td>\n",
       "      <td>-6.704543e-05</td>\n",
       "      <td>3.834329e-04</td>\n",
       "      <td>-2.962390e-04</td>\n",
       "    </tr>\n",
       "  </tbody>\n",
       "</table>\n",
       "<p>3 rows × 32 columns</p>\n",
       "</div>"
      ],
      "text/plain": [
       "   variance   m00    m10    m01    m20    m11    m02     m30     m21     m12  \\\n",
       "0  0.416233  45.0  171.0  154.0  839.0  609.0  702.0  4575.0  3093.0  2865.0   \n",
       "1  0.437473  42.0  172.0  169.0  932.0  685.0  877.0  5464.0  3571.0  3669.0   \n",
       "2  0.218641  18.0   60.0   58.0  302.0  188.0  284.0  1686.0   940.0  1036.0   \n",
       "\n",
       "       ...           nu21      nu12      nu03       hu0       hu1       hu2  \\\n",
       "0      ...       0.003009  0.002540  0.002943  0.179841  0.000602  0.000167   \n",
       "1      ...      -0.010591  0.011772 -0.007441  0.240700  0.000366  0.003541   \n",
       "2      ...       0.001778  0.089991 -0.053061  0.614540  0.001312  0.076558   \n",
       "\n",
       "        hu3           hu4           hu5           hu6  \n",
       "0  0.000037 -2.579236e-09 -5.805786e-07 -1.315888e-09  \n",
       "1  0.000377 -4.359854e-07 -6.837591e-06  3.307327e-09  \n",
       "2  0.010641 -6.704543e-05  3.834329e-04 -2.962390e-04  \n",
       "\n",
       "[3 rows x 32 columns]"
      ]
     },
     "execution_count": 79,
     "metadata": {},
     "output_type": "execute_result"
    }
   ],
   "source": [
    "df_final"
   ]
  },
  {
   "cell_type": "code",
   "execution_count": 84,
   "metadata": {},
   "outputs": [
    {
     "data": {
      "text/plain": [
       "(2336, 3504, 3)"
      ]
     },
     "execution_count": 84,
     "metadata": {},
     "output_type": "execute_result"
    }
   ],
   "source": [
    "images[0].shape"
   ]
  },
  {
   "cell_type": "code",
   "execution_count": null,
   "metadata": {},
   "outputs": [],
   "source": [
    "#decision data - how to do it XD"
   ]
  },
  {
   "cell_type": "code",
   "execution_count": null,
   "metadata": {},
   "outputs": [],
   "source": []
  }
 ],
 "metadata": {
  "kernelspec": {
   "display_name": "Python 3",
   "language": "python",
   "name": "python3"
  },
  "language_info": {
   "codemirror_mode": {
    "name": "ipython",
    "version": 3
   },
   "file_extension": ".py",
   "mimetype": "text/x-python",
   "name": "python",
   "nbconvert_exporter": "python",
   "pygments_lexer": "ipython3",
   "version": "3.6.5"
  }
 },
 "nbformat": 4,
 "nbformat_minor": 2
}
