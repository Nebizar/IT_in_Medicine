{
 "cells": [
  {
   "cell_type": "code",
   "execution_count": 1,
   "metadata": {},
   "outputs": [],
   "source": [
    "%matplotlib inline"
   ]
  },
  {
   "cell_type": "code",
   "execution_count": 2,
   "metadata": {},
   "outputs": [],
   "source": [
    "import warnings\n",
    "warnings.filterwarnings(\"ignore\")"
   ]
  },
  {
   "cell_type": "code",
   "execution_count": 3,
   "metadata": {},
   "outputs": [],
   "source": [
    "from IPython.display import HTML, display\n",
    "import os\n",
    "import cv2\n",
    "import numpy as np\n",
    "from ipywidgets import widgets, Layout, interact\n",
    "import pandas as pd"
   ]
  },
  {
   "cell_type": "code",
   "execution_count": 4,
   "metadata": {},
   "outputs": [
    {
     "data": {
      "text/html": [
       "<script>\n",
       "code_show=true; \n",
       "function code_toggle() {\n",
       "  if (code_show) {\n",
       "    $('div.input').each(function(id) {\n",
       "      el = $(this).find('.cm-variable:first');\n",
       "      if (id == 0 || el.text() == 'hide_me') {\n",
       "        $(this).hide();\n",
       "      }\n",
       "    });\n",
       "    $('div.output_prompt').css('opacity', 0);\n",
       "  } else {\n",
       "    $('div.input').each(function(id) {\n",
       "      $(this).show();\n",
       "    });\n",
       "    $('div.output_prompt').css('opacity', 1);\n",
       "  }\n",
       "  code_show = !code_show\n",
       "} \n",
       "$( document ).ready(code_toggle);\n",
       "</script>\n",
       "<form action=\"javascript:code_toggle()\">\n",
       "    <input style=\"opacity:0\" type=\"submit\" value=\"Click here to toggle on/off the raw code.\">\n",
       "</form>"
      ],
      "text/plain": [
       "<IPython.core.display.HTML object>"
      ]
     },
     "execution_count": 4,
     "metadata": {},
     "output_type": "execute_result"
    }
   ],
   "source": [
    "hide_me = ''\n",
    "HTML('''<script>\n",
    "code_show=true; \n",
    "function code_toggle() {\n",
    "  if (code_show) {\n",
    "    $('div.input').each(function(id) {\n",
    "      el = $(this).find('.cm-variable:first');\n",
    "      if (id == 0 || el.text() == 'hide_me') {\n",
    "        $(this).hide();\n",
    "      }\n",
    "    });\n",
    "    $('div.output_prompt').css('opacity', 0);\n",
    "  } else {\n",
    "    $('div.input').each(function(id) {\n",
    "      $(this).show();\n",
    "    });\n",
    "    $('div.output_prompt').css('opacity', 1);\n",
    "  }\n",
    "  code_show = !code_show\n",
    "} \n",
    "$( document ).ready(code_toggle);\n",
    "</script>\n",
    "<form action=\"javascript:code_toggle()\">\n",
    "    <input style=\"opacity:0\" type=\"submit\" value=\"Click here to toggle on/off the raw code.\">\n",
    "</form>''')"
   ]
  },
  {
   "cell_type": "code",
   "execution_count": 5,
   "metadata": {},
   "outputs": [
    {
     "name": "stdout",
     "output_type": "stream",
     "text": [
      "Path: \n"
     ]
    },
    {
     "data": {
      "application/vnd.jupyter.widget-view+json": {
       "model_id": "eb274e23ce5247f080270a19793f6f1e",
       "version_major": 2,
       "version_minor": 0
      },
      "text/plain": [
       "Text(value='')"
      ]
     },
     "metadata": {},
     "output_type": "display_data"
    }
   ],
   "source": [
    "hide_me\n",
    "\n",
    "path = widgets.Text()\n",
    "print(\"Path: \")\n",
    "display(path)\n",
    "\n",
    "def handle_path(sender):\n",
    "    global PATH\n",
    "    PATH = path.value\n",
    "    print(\"Path updated !\")"
   ]
  },
  {
   "cell_type": "markdown",
   "metadata": {},
   "source": [
    "## Reading data and creating ML dataframe"
   ]
  },
  {
   "cell_type": "code",
   "execution_count": null,
   "metadata": {},
   "outputs": [],
   "source": [
    "from skimage.morphology import square\n",
    "from skimage import io, color, filters, morphology, feature\n",
    "\n",
    "def read_files(directory, limit):\n",
    "    global PATH\n",
    "    files_basic = []\n",
    "    files=[]\n",
    "    for file in os.listdir(directory):\n",
    "        if limit <=0:\n",
    "            break\n",
    "        image_basic = io.imread(os.path.join(directory, file))\n",
    "        files_basic.append(image_basic)\n",
    "        image = cv2.imread(os.path.join(directory, file))\n",
    "        #image = cv2.cvtColor(image, cv2.COLOR_BGR2RGB)\n",
    "        files.append(image)\n",
    "        limit-=1\n",
    "    return files_basic, files\n",
    "\n",
    "images_basic, images = read_files('data/images/', 2)\n",
    "expected_results_basic, expected_results = read_files('data/manual1/', 2)\n",
    "masks_basic, masks = read_files('data/mask/', 2)"
   ]
  },
  {
   "cell_type": "code",
   "execution_count": 14,
   "metadata": {},
   "outputs": [
    {
     "data": {
      "image/png": "[encoded data removed]",
      "text/plain": [
       "<Figure size 432x288 with 1 Axes>"
      ]
     },
     "metadata": {
      "needs_background": "light"
     },
     "output_type": "display_data"
    }
   ],
   "source": [
    "for i in range(0,len(images_basic) - 1):\n",
    "    mask_gray = color.rgb2gray(masks_basic[i])\n",
    "    \n",
    "    for w in range(images[i].shape[1]):\n",
    "        for h in range(images[i].shape[0]):            \n",
    "            images[i][h, w][1] = min(int(images[i][h, w][1]*1.5), 255)\n",
    "            \n",
    "    image_hsv = cv2.cvtColor(images[i], cv2.COLOR_BGR2HSV)\n",
    "    \n",
    "    lower_red = np.array([0, 190, 100])\n",
    "    upper_red = np.array([7, 255, 255])\n",
    "    mask = cv2.inRange(image_hsv, lower_red, upper_red)\n",
    "    \n",
    "    imgRed = cv2.bitwise_and(images[i], images[i], mask=mask)\n",
    "    \n",
    "    io.imshow(imgRed)"
   ]
  },
  {
   "cell_type": "code",
   "execution_count": 7,
   "metadata": {},
   "outputs": [
    {
     "ename": "error",
     "evalue": "OpenCV(4.1.0) C:\\projects\\opencv-python\\opencv\\modules\\core\\src\\alloc.cpp:55: error: (-4:Insufficient memory) Failed to allocate 24556032 bytes in function 'cv::OutOfMemoryError'\n",
     "output_type": "error",
     "traceback": [
      "\u001b[1;31m---------------------------------------------------------------------------\u001b[0m",
      "\u001b[1;31merror\u001b[0m                                     Traceback (most recent call last)",
      "\u001b[1;32m<ipython-input-7-5a50bf55151b>\u001b[0m in \u001b[0;36m<module>\u001b[1;34m\u001b[0m\n\u001b[0;32m     18\u001b[0m \u001b[1;33m\u001b[0m\u001b[0m\n\u001b[0;32m     19\u001b[0m \u001b[1;33m\u001b[0m\u001b[0m\n\u001b[1;32m---> 20\u001b[1;33m \u001b[0mimages\u001b[0m\u001b[1;33m=\u001b[0m\u001b[1;33m[\u001b[0m\u001b[0mprocess_image\u001b[0m\u001b[1;33m(\u001b[0m\u001b[0mimg\u001b[0m\u001b[1;33m)\u001b[0m \u001b[1;32mfor\u001b[0m \u001b[0mimg\u001b[0m \u001b[1;32min\u001b[0m \u001b[0mimages\u001b[0m\u001b[1;33m]\u001b[0m\u001b[1;33m\u001b[0m\u001b[1;33m\u001b[0m\u001b[0m\n\u001b[0m",
      "\u001b[1;32m<ipython-input-7-5a50bf55151b>\u001b[0m in \u001b[0;36m<listcomp>\u001b[1;34m(.0)\u001b[0m\n\u001b[0;32m     18\u001b[0m \u001b[1;33m\u001b[0m\u001b[0m\n\u001b[0;32m     19\u001b[0m \u001b[1;33m\u001b[0m\u001b[0m\n\u001b[1;32m---> 20\u001b[1;33m \u001b[0mimages\u001b[0m\u001b[1;33m=\u001b[0m\u001b[1;33m[\u001b[0m\u001b[0mprocess_image\u001b[0m\u001b[1;33m(\u001b[0m\u001b[0mimg\u001b[0m\u001b[1;33m)\u001b[0m \u001b[1;32mfor\u001b[0m \u001b[0mimg\u001b[0m \u001b[1;32min\u001b[0m \u001b[0mimages\u001b[0m\u001b[1;33m]\u001b[0m\u001b[1;33m\u001b[0m\u001b[1;33m\u001b[0m\u001b[0m\n\u001b[0m",
      "\u001b[1;32m<ipython-input-7-5a50bf55151b>\u001b[0m in \u001b[0;36mprocess_image\u001b[1;34m(img)\u001b[0m\n\u001b[0;32m      5\u001b[0m     \u001b[0mres\u001b[0m \u001b[1;33m=\u001b[0m \u001b[0mcv2\u001b[0m\u001b[1;33m.\u001b[0m\u001b[0mcvtColor\u001b[0m\u001b[1;33m(\u001b[0m\u001b[0mimg\u001b[0m\u001b[1;33m,\u001b[0m \u001b[0mcv2\u001b[0m\u001b[1;33m.\u001b[0m\u001b[0mCOLOR_YUV2BGR\u001b[0m\u001b[1;33m)\u001b[0m\u001b[1;33m\u001b[0m\u001b[1;33m\u001b[0m\u001b[0m\n\u001b[0;32m      6\u001b[0m     \u001b[1;31m#rozmycie\u001b[0m\u001b[1;33m\u001b[0m\u001b[1;33m\u001b[0m\u001b[1;33m\u001b[0m\u001b[0m\n\u001b[1;32m----> 7\u001b[1;33m     \u001b[0mres\u001b[0m \u001b[1;33m=\u001b[0m \u001b[0mcv2\u001b[0m\u001b[1;33m.\u001b[0m\u001b[0mmedianBlur\u001b[0m\u001b[1;33m(\u001b[0m\u001b[0mres\u001b[0m\u001b[1;33m,\u001b[0m\u001b[1;36m7\u001b[0m\u001b[1;33m)\u001b[0m\u001b[1;33m\u001b[0m\u001b[1;33m\u001b[0m\u001b[0m\n\u001b[0m\u001b[0;32m      8\u001b[0m     \u001b[1;32mreturn\u001b[0m \u001b[0mres\u001b[0m\u001b[1;33m\u001b[0m\u001b[1;33m\u001b[0m\u001b[0m\n\u001b[0;32m      9\u001b[0m \u001b[1;33m\u001b[0m\u001b[0m\n",
      "\u001b[1;31merror\u001b[0m: OpenCV(4.1.0) C:\\projects\\opencv-python\\opencv\\modules\\core\\src\\alloc.cpp:55: error: (-4:Insufficient memory) Failed to allocate 24556032 bytes in function 'cv::OutOfMemoryError'\n"
     ]
    }
   ],
   "source": [
    "def process_image(img):\n",
    "    #normalizacja histogramu kolorów\n",
    "    img = cv2.cvtColor(img, cv2.COLOR_BGR2YUV)\n",
    "    img[:,:,0] = cv2.equalizeHist(img[:,:,0])\n",
    "    res = cv2.cvtColor(img, cv2.COLOR_YUV2BGR)\n",
    "    #rozmycie\n",
    "    res = cv2.medianBlur(res,7)\n",
    "    return res\n",
    "\n",
    "\n",
    "\"\"\"img = images[0]\n",
    "filtered = process_image(img)\n",
    "\n",
    "cv2.imshow(\"original\", img)\n",
    "cv2.imshow(\"filtered\", filtered)\n",
    "cv2.waitKey(0)\n",
    "cv2.destroyAllWindows()\"\"\"\n",
    "\n",
    "\n",
    "images=[process_image(img) for img in images]"
   ]
  },
  {
   "cell_type": "code",
   "execution_count": 6,
   "metadata": {},
   "outputs": [],
   "source": [
    "def split_image(img,exp, width, height):\n",
    "    img_width = img.shape[0]\n",
    "    img_height = img.shape[1]\n",
    "    tiles = [img[x:x+width,y:y+height] for x in range(0,img_width,width) for y in range(0,img_height,height)]\n",
    "    values =[exp[x,y] for x in range(width//2,img_width,width) for y in range(height//2,img_height,height)]\n",
    "    return tiles, values\n"
   ]
  },
  {
   "cell_type": "code",
   "execution_count": 7,
   "metadata": {},
   "outputs": [
    {
     "name": "stdout",
     "output_type": "stream",
     "text": [
      "10.52765051598871\n"
     ]
    }
   ],
   "source": [
    "def get_data(img):\n",
    "    variance=np.var(img)\n",
    "    gray = cv2.cvtColor(img, cv2.COLOR_BGR2GRAY)\n",
    "    moments = cv2.moments(gray)\n",
    "    huMoments = cv2.HuMoments(moments)\n",
    "    result = [variance, moments, huMoments]\n",
    "    return result\n",
    "\n",
    "\n",
    "img=images[0]\n",
    "fragments, values=split_image(img,expected_results[0], 7, 7)\n",
    "data=[]\n",
    "for frag in fragments:\n",
    "    data.append(get_data(frag))\n"
   ]
  },
  {
   "cell_type": "code",
   "execution_count": 10,
   "metadata": {},
   "outputs": [],
   "source": [
    "def createDataFrame(data):\n",
    "    final_frame = pd.DataFrame()\n",
    "    idx = ['hu0','hu1','hu2','hu3','hu4','hu5','hu6']\n",
    "    for example in data:\n",
    "        df1 = pd.DataFrame.from_dict(data = example[1], orient='index')\n",
    "        df2 = pd.DataFrame.from_dict(data = {\"variance\":example[0]}, orient ='index') \n",
    "        df3 = pd.DataFrame(example[2],index=idx)\n",
    "        frame = df2.append(df1.append(df3))\n",
    "        frame = frame.T\n",
    "        #print(\"FRAME ###########\")\n",
    "        #print(frame)\n",
    "        final_frame = final_frame.append(frame, ignore_index=True)\n",
    "        #print(\"FINAL FRAME ###############\")\n",
    "        #print(final_frame)\n",
    "    return final_frame\n",
    "\n",
    "def addDecision(frame, dec):\n",
    "    for i in range(0,len(dec)):\n",
    "        if sum(dec[i]) == 0:\n",
    "            dec[i] = 0\n",
    "        else:\n",
    "            dec[i] = 1\n",
    "    frame['vessel'] = dec\n",
    "    return frame"
   ]
  },
  {
   "cell_type": "code",
   "execution_count": 12,
   "metadata": {},
   "outputs": [],
   "source": [
    "df_final = createDataFrame(data)\n",
    "df_final = addDecision(df_final, values)"
   ]
  },
  {
   "cell_type": "code",
   "execution_count": 22,
   "metadata": {},
   "outputs": [
    {
     "data": {
      "text/html": [
       "<div>\n",
       "<style scoped>\n",
       "    .dataframe tbody tr th:only-of-type {\n",
       "        vertical-align: middle;\n",
       "    }\n",
       "\n",
       "    .dataframe tbody tr th {\n",
       "        vertical-align: top;\n",
       "    }\n",
       "\n",
       "    .dataframe thead th {\n",
       "        text-align: right;\n",
       "    }\n",
       "</style>\n",
       "<table border=\"1\" class=\"dataframe\">\n",
       "  <thead>\n",
       "    <tr style=\"text-align: right;\">\n",
       "      <th></th>\n",
       "      <th>variance</th>\n",
       "      <th>m00</th>\n",
       "      <th>m10</th>\n",
       "      <th>m01</th>\n",
       "      <th>m20</th>\n",
       "      <th>m11</th>\n",
       "      <th>m02</th>\n",
       "      <th>m30</th>\n",
       "      <th>m21</th>\n",
       "      <th>m12</th>\n",
       "      <th>...</th>\n",
       "      <th>nu12</th>\n",
       "      <th>nu03</th>\n",
       "      <th>hu0</th>\n",
       "      <th>hu1</th>\n",
       "      <th>hu2</th>\n",
       "      <th>hu3</th>\n",
       "      <th>hu4</th>\n",
       "      <th>hu5</th>\n",
       "      <th>hu6</th>\n",
       "      <th>vessel</th>\n",
       "    </tr>\n",
       "  </thead>\n",
       "  <tbody>\n",
       "    <tr>\n",
       "      <th>0</th>\n",
       "      <td>10.527651</td>\n",
       "      <td>1093.0</td>\n",
       "      <td>3375.0</td>\n",
       "      <td>3337.0</td>\n",
       "      <td>14643.0</td>\n",
       "      <td>10115.0</td>\n",
       "      <td>14449.0</td>\n",
       "      <td>70989.0</td>\n",
       "      <td>43915.0</td>\n",
       "      <td>43817.0</td>\n",
       "      <td>...</td>\n",
       "      <td>0.000009</td>\n",
       "      <td>-0.000003</td>\n",
       "      <td>0.007100</td>\n",
       "      <td>1.013009e-07</td>\n",
       "      <td>2.207990e-09</td>\n",
       "      <td>4.170454e-11</td>\n",
       "      <td>-6.539713e-22</td>\n",
       "      <td>-4.660574e-15</td>\n",
       "      <td>-1.263842e-20</td>\n",
       "      <td>0</td>\n",
       "    </tr>\n",
       "    <tr>\n",
       "      <th>1</th>\n",
       "      <td>105.530844</td>\n",
       "      <td>769.0</td>\n",
       "      <td>2440.0</td>\n",
       "      <td>2973.0</td>\n",
       "      <td>11528.0</td>\n",
       "      <td>9054.0</td>\n",
       "      <td>13697.0</td>\n",
       "      <td>59410.0</td>\n",
       "      <td>40666.0</td>\n",
       "      <td>41496.0</td>\n",
       "      <td>...</td>\n",
       "      <td>0.000059</td>\n",
       "      <td>-0.000105</td>\n",
       "      <td>0.010128</td>\n",
       "      <td>8.808388e-06</td>\n",
       "      <td>9.069374e-08</td>\n",
       "      <td>3.887611e-08</td>\n",
       "      <td>-1.658503e-15</td>\n",
       "      <td>-1.099751e-10</td>\n",
       "      <td>1.605654e-15</td>\n",
       "      <td>0</td>\n",
       "    </tr>\n",
       "    <tr>\n",
       "      <th>2</th>\n",
       "      <td>116.284326</td>\n",
       "      <td>391.0</td>\n",
       "      <td>506.0</td>\n",
       "      <td>1380.0</td>\n",
       "      <td>1058.0</td>\n",
       "      <td>1472.0</td>\n",
       "      <td>6210.0</td>\n",
       "      <td>2438.0</td>\n",
       "      <td>2668.0</td>\n",
       "      <td>6394.0</td>\n",
       "      <td>...</td>\n",
       "      <td>0.000190</td>\n",
       "      <td>-0.000335</td>\n",
       "      <td>0.011398</td>\n",
       "      <td>5.436387e-05</td>\n",
       "      <td>3.209873e-07</td>\n",
       "      <td>2.145843e-07</td>\n",
       "      <td>5.604220e-14</td>\n",
       "      <td>1.514967e-09</td>\n",
       "      <td>5.558517e-15</td>\n",
       "      <td>0</td>\n",
       "    </tr>\n",
       "    <tr>\n",
       "      <th>3</th>\n",
       "      <td>128.223333</td>\n",
       "      <td>598.0</td>\n",
       "      <td>2484.0</td>\n",
       "      <td>1219.0</td>\n",
       "      <td>12144.0</td>\n",
       "      <td>6141.0</td>\n",
       "      <td>4669.0</td>\n",
       "      <td>63066.0</td>\n",
       "      <td>32407.0</td>\n",
       "      <td>24725.0</td>\n",
       "      <td>...</td>\n",
       "      <td>0.000107</td>\n",
       "      <td>0.000337</td>\n",
       "      <td>0.011213</td>\n",
       "      <td>3.731645e-05</td>\n",
       "      <td>9.880964e-07</td>\n",
       "      <td>6.926377e-08</td>\n",
       "      <td>-1.790357e-14</td>\n",
       "      <td>-4.157106e-10</td>\n",
       "      <td>-2.792420e-15</td>\n",
       "      <td>0</td>\n",
       "    </tr>\n",
       "    <tr>\n",
       "      <th>4</th>\n",
       "      <td>48.558749</td>\n",
       "      <td>1012.0</td>\n",
       "      <td>2783.0</td>\n",
       "      <td>3335.0</td>\n",
       "      <td>11477.0</td>\n",
       "      <td>9890.0</td>\n",
       "      <td>14605.0</td>\n",
       "      <td>53843.0</td>\n",
       "      <td>42550.0</td>\n",
       "      <td>43700.0</td>\n",
       "      <td>...</td>\n",
       "      <td>-0.000037</td>\n",
       "      <td>-0.000031</td>\n",
       "      <td>0.007263</td>\n",
       "      <td>2.011806e-06</td>\n",
       "      <td>3.260098e-08</td>\n",
       "      <td>4.961939e-11</td>\n",
       "      <td>-3.396856e-21</td>\n",
       "      <td>-3.860815e-14</td>\n",
       "      <td>-6.301769e-20</td>\n",
       "      <td>0</td>\n",
       "    </tr>\n",
       "  </tbody>\n",
       "</table>\n",
       "<p>5 rows × 33 columns</p>\n",
       "</div>"
      ],
      "text/plain": [
       "     variance     m00     m10     m01      m20      m11      m02      m30  \\\n",
       "0   10.527651  1093.0  3375.0  3337.0  14643.0  10115.0  14449.0  70989.0   \n",
       "1  105.530844   769.0  2440.0  2973.0  11528.0   9054.0  13697.0  59410.0   \n",
       "2  116.284326   391.0   506.0  1380.0   1058.0   1472.0   6210.0   2438.0   \n",
       "3  128.223333   598.0  2484.0  1219.0  12144.0   6141.0   4669.0  63066.0   \n",
       "4   48.558749  1012.0  2783.0  3335.0  11477.0   9890.0  14605.0  53843.0   \n",
       "\n",
       "       m21      m12   ...        nu12      nu03       hu0           hu1  \\\n",
       "0  43915.0  43817.0   ...    0.000009 -0.000003  0.007100  1.013009e-07   \n",
       "1  40666.0  41496.0   ...    0.000059 -0.000105  0.010128  8.808388e-06   \n",
       "2   2668.0   6394.0   ...    0.000190 -0.000335  0.011398  5.436387e-05   \n",
       "3  32407.0  24725.0   ...    0.000107  0.000337  0.011213  3.731645e-05   \n",
       "4  42550.0  43700.0   ...   -0.000037 -0.000031  0.007263  2.011806e-06   \n",
       "\n",
       "            hu2           hu3           hu4           hu5           hu6  \\\n",
       "0  2.207990e-09  4.170454e-11 -6.539713e-22 -4.660574e-15 -1.263842e-20   \n",
       "1  9.069374e-08  3.887611e-08 -1.658503e-15 -1.099751e-10  1.605654e-15   \n",
       "2  3.209873e-07  2.145843e-07  5.604220e-14  1.514967e-09  5.558517e-15   \n",
       "3  9.880964e-07  6.926377e-08 -1.790357e-14 -4.157106e-10 -2.792420e-15   \n",
       "4  3.260098e-08  4.961939e-11 -3.396856e-21 -3.860815e-14 -6.301769e-20   \n",
       "\n",
       "   vessel  \n",
       "0       0  \n",
       "1       0  \n",
       "2       0  \n",
       "3       0  \n",
       "4       0  \n",
       "\n",
       "[5 rows x 33 columns]"
      ]
     },
     "execution_count": 22,
     "metadata": {},
     "output_type": "execute_result"
    }
   ],
   "source": [
    "df_final.head()"
   ]
  },
  {
   "cell_type": "code",
   "execution_count": 19,
   "metadata": {},
   "outputs": [],
   "source": [
    "df_final.to_csv('data.csv')"
   ]
  },
  {
   "cell_type": "markdown",
   "metadata": {},
   "source": [
    "## Machine Learning Model"
   ]
  },
  {
   "cell_type": "code",
   "execution_count": 25,
   "metadata": {},
   "outputs": [],
   "source": [
    "from sklearn.ensemble import RandomForestClassifier"
   ]
  },
  {
   "cell_type": "code",
   "execution_count": 26,
   "metadata": {},
   "outputs": [],
   "source": [
    "regressor = RandomForestClassifier(n_estimators = 10, criterion='entropy')"
   ]
  },
  {
   "cell_type": "code",
   "execution_count": 33,
   "metadata": {},
   "outputs": [],
   "source": [
    "dataset = pd.read_csv('data.csv')\n",
    "X = dataset.iloc[:, :-1].values\n",
    "y = dataset.iloc[:, -1].values"
   ]
  },
  {
   "cell_type": "code",
   "execution_count": 81,
   "metadata": {},
   "outputs": [],
   "source": [
    "# Splitting the dataset into the Training set and Test set\n",
    "from sklearn.model_selection import train_test_split\n",
    "X_train, X_test, y_train, y_test = train_test_split(X, y, test_size = 0.2)\n",
    "\n",
    "# Feature Scaling\n",
    "from sklearn.preprocessing import StandardScaler\n",
    "sc = StandardScaler()\n",
    "X_train = sc.fit_transform(X_train)\n",
    "X_test = sc.transform(X_test)"
   ]
  },
  {
   "cell_type": "code",
   "execution_count": 42,
   "metadata": {},
   "outputs": [
    {
     "data": {
      "text/plain": [
       "GridSearchCV(cv=5, error_score='raise-deprecating',\n",
       "       estimator=RandomForestClassifier(bootstrap=True, class_weight=None, criterion='gini',\n",
       "            max_depth=None, max_features='auto', max_leaf_nodes=None,\n",
       "            min_impurity_decrease=0.0, min_impurity_split=None,\n",
       "            min_samples_leaf=1, min_samples_split=2,\n",
       "            min_weight_fraction_leaf=0.0, n_estimators='warn', n_jobs=None,\n",
       "            oob_score=False, random_state=None, verbose=0,\n",
       "            warm_start=False),\n",
       "       fit_params=None, iid='warn', n_jobs=None,\n",
       "       param_grid={'n_estimators': [10, 20, 50], 'max_features': ['sqrt', 'log2'], 'max_depth': [4, 6, 8], 'criterion': ['gini', 'entropy']},\n",
       "       pre_dispatch='2*n_jobs', refit=True, return_train_score='warn',\n",
       "       scoring='neg_mean_squared_error', verbose=0)"
      ]
     },
     "execution_count": 42,
     "metadata": {},
     "output_type": "execute_result"
    }
   ],
   "source": [
    "from sklearn.model_selection import GridSearchCV\n",
    "\n",
    "param_grid = { \n",
    "    'n_estimators': [10, 20, 50],\n",
    "    'max_features': ['sqrt', 'log2'],\n",
    "    'max_depth' : [4,6,8],\n",
    "    'criterion' :['gini', 'entropy']\n",
    "}\n",
    "\n",
    "classifier = RandomForestClassifier()\n",
    "\n",
    "grid_search = GridSearchCV(classifier, param_grid, cv=5, scoring='neg_mean_squared_error')\n",
    "\n",
    "grid_search.fit(X_train, y_train)"
   ]
  },
  {
   "cell_type": "code",
   "execution_count": 43,
   "metadata": {},
   "outputs": [
    {
     "data": {
      "text/plain": [
       "{'criterion': 'gini',\n",
       " 'max_depth': 8,\n",
       " 'max_features': 'sqrt',\n",
       " 'n_estimators': 10}"
      ]
     },
     "execution_count": 43,
     "metadata": {},
     "output_type": "execute_result"
    }
   ],
   "source": [
    "grid_search.best_params_"
   ]
  },
  {
   "cell_type": "code",
   "execution_count": 44,
   "metadata": {},
   "outputs": [
    {
     "data": {
      "text/plain": [
       "RandomForestClassifier(bootstrap=True, class_weight=None, criterion='gini',\n",
       "            max_depth=8, max_features='sqrt', max_leaf_nodes=None,\n",
       "            min_impurity_decrease=0.0, min_impurity_split=None,\n",
       "            min_samples_leaf=1, min_samples_split=2,\n",
       "            min_weight_fraction_leaf=0.0, n_estimators=10, n_jobs=None,\n",
       "            oob_score=False, random_state=None, verbose=0,\n",
       "            warm_start=False)"
      ]
     },
     "execution_count": 44,
     "metadata": {},
     "output_type": "execute_result"
    }
   ],
   "source": [
    "grid_search.best_estimator_"
   ]
  },
  {
   "cell_type": "markdown",
   "metadata": {},
   "source": [
    "### Best classifier"
   ]
  },
  {
   "cell_type": "code",
   "execution_count": 82,
   "metadata": {},
   "outputs": [
    {
     "data": {
      "text/plain": [
       "RandomForestClassifier(bootstrap=True, class_weight=None, criterion='gini',\n",
       "            max_depth=8, max_features='sqrt', max_leaf_nodes=None,\n",
       "            min_impurity_decrease=0.0, min_impurity_split=None,\n",
       "            min_samples_leaf=1, min_samples_split=2,\n",
       "            min_weight_fraction_leaf=0.0, n_estimators=10, n_jobs=None,\n",
       "            oob_score=False, random_state=None, verbose=0,\n",
       "            warm_start=False)"
      ]
     },
     "execution_count": 82,
     "metadata": {},
     "output_type": "execute_result"
    }
   ],
   "source": [
    "best_clf = RandomForestClassifier(bootstrap=True, class_weight=None, criterion='gini',\n",
    "            max_depth=8, max_features='sqrt', max_leaf_nodes=None,\n",
    "            min_impurity_decrease=0.0, min_impurity_split=None,\n",
    "            min_samples_leaf=1, min_samples_split=2,\n",
    "            min_weight_fraction_leaf=0.0, n_estimators=10, n_jobs=None,\n",
    "            oob_score=False, random_state=None, verbose=0,\n",
    "            warm_start=False)\n",
    "\n",
    "best_clf.fit(X_train,y_train)"
   ]
  },
  {
   "cell_type": "code",
   "execution_count": 83,
   "metadata": {},
   "outputs": [],
   "source": [
    "from sklearn.model_selection import cross_val_predict\n",
    "\n",
    "y_train_pred = cross_val_predict(best_clf, X_train, y_train, cv = 10)"
   ]
  },
  {
   "cell_type": "code",
   "execution_count": 84,
   "metadata": {},
   "outputs": [
    {
     "data": {
      "text/plain": [
       "array([[6645,  167],\n",
       "       [ 157, 6634]], dtype=int64)"
      ]
     },
     "execution_count": 84,
     "metadata": {},
     "output_type": "execute_result"
    }
   ],
   "source": [
    "from sklearn.metrics import confusion_matrix\n",
    "\n",
    "confusion_matrix(y_train, y_train_pred)"
   ]
  },
  {
   "cell_type": "code",
   "execution_count": 85,
   "metadata": {},
   "outputs": [
    {
     "name": "stdout",
     "output_type": "stream",
     "text": [
      "0.9754447875312454\n",
      "0.9768811662494478\n"
     ]
    }
   ],
   "source": [
    "from sklearn.metrics import precision_score, recall_score\n",
    "\n",
    "print(precision_score(y_train, y_train_pred))\n",
    "print(recall_score(y_train, y_train_pred))"
   ]
  },
  {
   "cell_type": "code",
   "execution_count": 86,
   "metadata": {},
   "outputs": [
    {
     "name": "stdout",
     "output_type": "stream",
     "text": [
      "0.976162448499117\n"
     ]
    }
   ],
   "source": [
    "from sklearn.metrics import f1_score\n",
    "\n",
    "print(f1_score(y_train, y_train_pred))"
   ]
  },
  {
   "cell_type": "code",
   "execution_count": 89,
   "metadata": {},
   "outputs": [
    {
     "data": {
      "text/plain": [
       "array([[1655,   35],\n",
       "       [  52, 1659]], dtype=int64)"
      ]
     },
     "execution_count": 89,
     "metadata": {},
     "output_type": "execute_result"
    }
   ],
   "source": [
    "# Predicting the Test set results\n",
    "y_pred = best_clf.predict(X_test)\n",
    "\n",
    "# Making the Confusion Matrix\n",
    "confusion_matrix(y_test, y_pred)"
   ]
  },
  {
   "cell_type": "code",
   "execution_count": 90,
   "metadata": {},
   "outputs": [
    {
     "name": "stdout",
     "output_type": "stream",
     "text": [
      "0.9754447875312454\n",
      "0.9768811662494478\n",
      "0.976162448499117\n"
     ]
    }
   ],
   "source": [
    "print(precision_score(y_train, y_train_pred))\n",
    "print(recall_score(y_train, y_train_pred))\n",
    "print(f1_score(y_train, y_train_pred))"
   ]
  },
  {
   "cell_type": "code",
   "execution_count": 79,
   "metadata": {},
   "outputs": [
    {
     "name": "stdout",
     "output_type": "stream",
     "text": [
      "150330\n",
      "(17004, 34)\n"
     ]
    }
   ],
   "source": [
    "def evenDataSet(dataset):\n",
    "    data=dataset.copy()\n",
    "    breakpoint =data.shape[0] -  2*sum(data.iloc[:,-1].values)\n",
    "    del_num = 0\n",
    "    deletions = []\n",
    "    for index, row in data.iterrows():\n",
    "        if row['vessel']==0:\n",
    "            deletions.append(index)\n",
    "            del_num += 1\n",
    "        if del_num == breakpoint:\n",
    "            break\n",
    "    print(len(deletions))      \n",
    "    data = data.drop(deletions)\n",
    "    print(data.shape)\n",
    "    return data\n",
    "            \n",
    "data_new = evenDataSet(dataset)"
   ]
  },
  {
   "cell_type": "code",
   "execution_count": 80,
   "metadata": {},
   "outputs": [],
   "source": [
    "X = data_new.iloc[:, :-1].values\n",
    "y = data_new.iloc[:, -1].values"
   ]
  },
  {
   "cell_type": "code",
   "execution_count": null,
   "metadata": {},
   "outputs": [],
   "source": []
  }
 ],
 "metadata": {
  "kernelspec": {
   "display_name": "Python 3",
   "language": "python",
   "name": "python3"
  },
  "language_info": {
   "codemirror_mode": {
    "name": "ipython",
    "version": 3
   },
   "file_extension": ".py",
   "mimetype": "text/x-python",
   "name": "python",
   "nbconvert_exporter": "python",
   "pygments_lexer": "ipython3",
   "version": "3.7.1"
  }
 },
 "nbformat": 4,
 "nbformat_minor": 2
}
